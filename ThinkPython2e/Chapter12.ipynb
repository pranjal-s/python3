{
 "cells": [
  {
   "cell_type": "code",
   "execution_count": 1,
   "metadata": {},
   "outputs": [
    {
     "name": "stdout",
     "output_type": "stream",
     "text": [
      "<class 'tuple'>\n",
      "<class 'tuple'>\n",
      "<class 'tuple'>\n",
      "<class 'str'>\n",
      "<class 'str'>\n",
      "<class 'str'>\n",
      "<class 'str'>\n",
      "<class 'tuple'>\n",
      "('l', 'u', 'p', 'i', 'n', 's')\n",
      "l\n",
      "('u', 'p', 'i')\n",
      "('A', 'u', 'p', 'i', 'n', 's')\n",
      "True\n",
      "True\n"
     ]
    }
   ],
   "source": [
    "# Tuples Are Immutable\n",
    "\n",
    "t1 = 'a', 'b', 'c', 'd', 'e'\n",
    "t2 = ('a', 'b', 'c', 'd', 'e')\n",
    "t3 = 'a',\n",
    "t4 = ('a')\n",
    "t5 = 'a'\n",
    "t6 = ('')\n",
    "t7 = ''\n",
    "t8 = ()\n",
    "print(type(t1))\n",
    "print(type(t2))\n",
    "print(type(t3))\n",
    "print(type(t4))\n",
    "print(type(t5))\n",
    "print(type(t6))\n",
    "print(type(t7))\n",
    "print(type(t8))\n",
    "\n",
    "t = tuple('lupins')\n",
    "print(t)\n",
    "print(t[0])\n",
    "print(t[1:4])\n",
    "#t[0] = 'A' # Being IMMUTABLE means doesn't support item assignment\n",
    "\n",
    "# But this doesn't mean you can't 'modify' a tuple...\n",
    "# [:] allows one to 'modify' a tuple by copying operation\n",
    "t = ('A',) + t[1:]\n",
    "print(t)\n",
    "\n",
    "# Tuple comparision is different though:\n",
    "print((0, 1, 2) < (0, 3, 4))\n",
    "print((0, 1, 2000000) < (0, 3, 4))\n",
    "\n",
    "def print_hist(h):\n",
    "    for c in h:\n",
    "        print(c, h[c])"
   ]
  },
  {
   "cell_type": "code",
   "execution_count": 2,
   "metadata": {},
   "outputs": [
    {
     "name": "stdout",
     "output_type": "stream",
     "text": [
      "3 [4, 'r5']\n",
      "<class 'int'> <class 'list'>\n",
      "monty python.org\n",
      "4 3\n",
      "4 3\n"
     ]
    }
   ],
   "source": [
    "# Tuple Assignment\n",
    "\n",
    "a, b = 3, [4, 'r5']\n",
    "print(a, b)\n",
    "print(type(a), type(b))\n",
    "\n",
    "addr = 'monty@python.org'\n",
    "uname, domain = addr.split('@')\n",
    "print(uname, domain)\n",
    "\n",
    "a = 3; b = 4\n",
    "temp = a; a = b; b = temp\n",
    "print(a, b)\n",
    "\n",
    "a = 3; b = 4\n",
    "a, b = b, a # more elegant and memory conservative\n",
    "            # left are variables, right are expressions\n",
    "            # all expressions on right are evaluated before assignment\n",
    "print(a, b)"
   ]
  },
  {
   "cell_type": "code",
   "execution_count": 3,
   "metadata": {},
   "outputs": [
    {
     "name": "stdout",
     "output_type": "stream",
     "text": [
      "(2, 1) <class 'tuple'>\n",
      "(2, 1) <class 'tuple'>\n",
      "['monty', 'python.org'] <class 'list'>\n",
      "2 1\n",
      "2 1\n",
      "[4, 5]\n"
     ]
    }
   ],
   "source": [
    "# Tuples as Return Values\n",
    "\n",
    "# multiple-valued return\n",
    "x = 7; y = 3\n",
    "t = divmod(x, y) # tuple of quotient, remainder\n",
    "print(t, type(t))\n",
    "t2 = (int(x/y), x%y)\n",
    "print(t2, type(t2))\n",
    "\n",
    "# NO big deal, list can do it too\n",
    "t = addr.split('@') # list of split\n",
    "print(t, type(t))\n",
    "\n",
    "# So, it's actually just another aspect of lists that tuple can do\n",
    "[a, b] = divmod(x, y)\n",
    "print(a, b)\n",
    "c, d = divmod(x, y)\n",
    "print(c, d)\n",
    "\n",
    "# I say, use list if you can\n",
    "def min_max(t):\n",
    "    return [min(t), max(t)]\n",
    "\n",
    "print(min_max((4, 5)))"
   ]
  },
  {
   "cell_type": "code",
   "execution_count": 4,
   "metadata": {},
   "outputs": [
    {
     "name": "stdout",
     "output_type": "stream",
     "text": [
      "(1, 2.0, '3')\n",
      "(2, 1)\n"
     ]
    }
   ],
   "source": [
    "# Variable-Length Argument Tuples\n",
    "\n",
    "def printall(*args): # GATHER all arguments into a single tuple 'args'\n",
    "    print(args)\n",
    "\n",
    "printall(1, 2.0, '3')\n",
    "\n",
    "t = (7, 3)\n",
    "# divmod(t) # TypeError: 2 arguments expected, got 1\n",
    "print(divmod(*t)) # SCATTER the single argument tuple into all args\n",
    "\n"
   ]
  },
  {
   "cell_type": "code",
   "execution_count": 5,
   "metadata": {},
   "outputs": [
    {
     "name": "stdout",
     "output_type": "stream",
     "text": [
      "<zip object at 0x7f6210188d40>\n",
      "('a', 0)\n",
      "('b', 1)\n",
      "('c', 2)\n",
      "[('A', 'E'), ('n', 'l'), ('n', 'k')]\n",
      "A E\n",
      "n l\n",
      "n k\n",
      "True\n",
      "0 a\n",
      "1 b\n",
      "2 c\n"
     ]
    }
   ],
   "source": [
    "# Lists and Tuples\n",
    "\n",
    "# zip is a built-in function that takes two or more sequences \n",
    "# and returns a list of tuples where each tuple contains \n",
    "# one element from each sequence. \n",
    "s = 'abc'\n",
    "t = [0, 1, 2]\n",
    "print(zip(s, t))\n",
    "\n",
    "for pair in zip(s, t):\n",
    "    print(pair)\n",
    "\n",
    "# list can be used to create a list of tuples from zip\n",
    "z = zip('Anne', 'Elk')\n",
    "t = list(z)\n",
    "print(t)\n",
    "\n",
    "# tuple assignment enables traversal through such list of tuples\n",
    "for first, second in t:\n",
    "    print(first, second)\n",
    "\n",
    "# a direct use of zip (without conversion to list) is in matching\n",
    "def has_match(t1, t2):\n",
    "    for x, y in zip(t1, t2):\n",
    "        if x == y:\n",
    "            return True\n",
    "    return False\n",
    "\n",
    "print(has_match('Anke', 'Elk'))\n",
    "\n",
    "# indeed, at its core, zip is an ITERATOR\n",
    "\n",
    "# if we specifically want to enumerate, we can also do so\n",
    "for index, element in enumerate('abc'):\n",
    "    print(index, element)"
   ]
  },
  {
   "cell_type": "code",
   "execution_count": 6,
   "metadata": {},
   "outputs": [
    {
     "name": "stdout",
     "output_type": "stream",
     "text": [
      "dict_items([('a', 0), ('b', 1), ('c', 2)])\n",
      "<class 'dict_items'>\n",
      "a 0\n",
      "b 1\n",
      "c 2\n",
      "[('a', 0), ('c', 2), ('b', 1)]\n",
      "{'a': 0, 'c': 2, 'b': 1}\n",
      "{'a': 0, 'b': 1, 'c': 2}\n",
      "('S', 'P') 0\n",
      "('Z', 'T') 1\n",
      "('S', 'Y') 2\n",
      "P S 0\n",
      "T Z 1\n",
      "Y S 2\n"
     ]
    }
   ],
   "source": [
    "# Dictionaries and Tuples\n",
    "\n",
    "# Just like the iterator zip of items in sequences such as \n",
    "# string, list and tuples,... dict_items is an iterator of\n",
    "# key-value pairs in a dictionary.\n",
    "\n",
    "# it is obtained using the method 'items'\n",
    "\n",
    "d = {'a':0, 'b':1, 'c':2}\n",
    "t = d.items()\n",
    "print(t)\n",
    "print(type(t))\n",
    "\n",
    "for key, value in d.items():\n",
    "    print(key, value)\n",
    "\n",
    "# Dictionary can be obtained from a tuple using 'dict'\n",
    "t = [('a', 0), ('c', 2), ('b', 1)]\n",
    "d = dict(t)\n",
    "print(t)\n",
    "print(d)\n",
    "\n",
    "# So dict + zip is a concise way to create a dictionary\n",
    "d = dict(zip('abc', range(3)))\n",
    "print(d)\n",
    "\n",
    "# While lists can't be used to assign multi-element keys \n",
    "# (they are mutable), it is for this reason that tuples \n",
    "# can be used to do that since they act as a single entity\n",
    "# despite multiple-elements:\n",
    "\n",
    "# For example, a tuple of first and last name can be a key.\n",
    "t = [('S', 'P'), ('Z', 'T'), ('S', 'Y')]\n",
    "directory = dict(zip(t, range(3)))\n",
    "print_hist(directory)\n",
    "\n",
    "for last, first in directory:\n",
    "    print(first, last, directory[last,first])"
   ]
  },
  {
   "cell_type": "code",
   "execution_count": 7,
   "metadata": {},
   "outputs": [],
   "source": [
    "# Sequences of Sequences"
   ]
  },
  {
   "cell_type": "code",
   "execution_count": 8,
   "metadata": {},
   "outputs": [],
   "source": [
    "# Debugging"
   ]
  }
 ],
 "metadata": {
  "kernelspec": {
   "display_name": "Python 3",
   "language": "python",
   "name": "python3"
  },
  "language_info": {
   "codemirror_mode": {
    "name": "ipython",
    "version": 3
   },
   "file_extension": ".py",
   "mimetype": "text/x-python",
   "name": "python",
   "nbconvert_exporter": "python",
   "pygments_lexer": "ipython3",
   "version": "3.8.3"
  }
 },
 "nbformat": 4,
 "nbformat_minor": 4
}
