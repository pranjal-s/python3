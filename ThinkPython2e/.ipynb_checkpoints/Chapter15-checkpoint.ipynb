{
 "cells": [
  {
   "cell_type": "code",
   "execution_count": 1,
   "metadata": {},
   "outputs": [
    {
     "name": "stdout",
     "output_type": "stream",
     "text": [
      "<class '__main__.Point'>\n",
      "<__main__.Point object at 0x7f9e5c23f2b0>\n"
     ]
    }
   ],
   "source": [
    "# Class: Programmer-Defined Types\n",
    "\n",
    "class Point:\n",
    "    \"\"\"Represents a point in 2-D space.\"\"\"\n",
    "\n",
    "print(Point)\n",
    "blank = Point() # instantiation\n",
    "print(blank) # the object blank is an instance of Point"
   ]
  },
  {
   "cell_type": "code",
   "execution_count": 2,
   "metadata": {},
   "outputs": [
    {
     "name": "stdout",
     "output_type": "stream",
     "text": [
      "3.0\n",
      "True\n",
      "True\n",
      "(3.000000, 4.000000)\n"
     ]
    }
   ],
   "source": [
    "# Atributes\n",
    "\n",
    "blank.x = 3.0\n",
    "blank.y = 4.0\n",
    "print(blank.x)\n",
    "x = blank.x\n",
    "print(x==blank.x)\n",
    "print(x is blank.x)\n",
    "\n",
    "def print_point(p):\n",
    "    print('(%f, %f)' % (p.x, p.y))\n",
    "\n",
    "print_point(blank)"
   ]
  },
  {
   "cell_type": "code",
   "execution_count": 3,
   "metadata": {},
   "outputs": [],
   "source": [
    "# Rectangles\n",
    "\n",
    "class Rectangle():\n",
    "    \"\"\"Rectangle Class\"\"\"\n",
    "\n",
    "box = Rectangle()\n",
    "box.width = 100.0\n",
    "box.height = 200.0\n",
    "box.corner = Point()\n",
    "box.corner.x = 0.0\n",
    "box.corner.y = 0.0"
   ]
  },
  {
   "cell_type": "code",
   "execution_count": 4,
   "metadata": {},
   "outputs": [
    {
     "name": "stdout",
     "output_type": "stream",
     "text": [
      "(50.000000, 100.000000)\n"
     ]
    }
   ],
   "source": [
    "# Instances as Return Values\n",
    "\n",
    "def find_center(rect):\n",
    "    p = Point()\n",
    "    p.x = rect.corner.x + rect.width/2\n",
    "    p.y = rect.corner.y + rect.height/2\n",
    "    return p\n",
    "\n",
    "center = find_center(box)\n",
    "print_point(center)"
   ]
  },
  {
   "cell_type": "code",
   "execution_count": 5,
   "metadata": {},
   "outputs": [],
   "source": [
    "# Objects Are Mutable"
   ]
  },
  {
   "cell_type": "code",
   "execution_count": 9,
   "metadata": {},
   "outputs": [
    {
     "name": "stdout",
     "output_type": "stream",
     "text": [
      "(3.000000, 4.000000)\n",
      "(3.000000, 4.000000)\n",
      "False\n",
      "False\n",
      "False\n",
      "True\n",
      "False\n",
      "False\n"
     ]
    }
   ],
   "source": [
    "# Copying\n",
    "\n",
    "p1 = Point()\n",
    "p1.x = 3.0\n",
    "p1.y = 4.0\n",
    "\n",
    "import copy\n",
    "p2 = copy.copy(p1)\n",
    "\n",
    "print_point(p1)\n",
    "print_point(p2)\n",
    "print(p1 is p2) # p2 is not same as p1\n",
    "print(p1 == p2)\n",
    "\n",
    "box2 = copy.copy(box)\n",
    "print(box2 is box) # non-identical shallow copy\n",
    "print(box2.corner is box.corner) # NOT a deep non-identical 'copy'\n",
    "\n",
    "box3 = copy.deepcopy(box)\n",
    "print(box3 is box) # non-identical copy\n",
    "print(box3.corner is box.corner) # IS a deep non-identical 'copy'"
   ]
  },
  {
   "cell_type": "code",
   "execution_count": 14,
   "metadata": {},
   "outputs": [
    {
     "name": "stdout",
     "output_type": "stream",
     "text": [
      "True\n",
      "False\n"
     ]
    }
   ],
   "source": [
    "# Debugging\n",
    "\n",
    "print(hasattr(p1, 'x'))\n",
    "print(hasattr(p1, 'z'))\n",
    "\n",
    "try:\n",
    "    z = p1.z\n",
    "except AttributeError:\n",
    "    z = 0"
   ]
  },
  {
   "cell_type": "code",
   "execution_count": null,
   "metadata": {},
   "outputs": [],
   "source": []
  }
 ],
 "metadata": {
  "kernelspec": {
   "display_name": "Python 3",
   "language": "python",
   "name": "python3"
  },
  "language_info": {
   "codemirror_mode": {
    "name": "ipython",
    "version": 3
   },
   "file_extension": ".py",
   "mimetype": "text/x-python",
   "name": "python",
   "nbconvert_exporter": "python",
   "pygments_lexer": "ipython3",
   "version": "3.8.3"
  }
 },
 "nbformat": 4,
 "nbformat_minor": 4
}
