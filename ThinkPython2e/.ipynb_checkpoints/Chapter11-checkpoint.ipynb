{
 "cells": [
  {
   "cell_type": "code",
   "execution_count": 1,
   "metadata": {},
   "outputs": [
    {
     "name": "stdout",
     "output_type": "stream",
     "text": [
      "{'one': 'uno'}\n",
      "{'one': 'uno', 'two': 'dos', 'three': 'tres'}\n",
      "dos\n",
      "True\n",
      "False\n",
      "True\n",
      "{'one': 'dos', 'four': 'quo'}\n"
     ]
    }
   ],
   "source": [
    "# A Dictionary Is a Mapping\n",
    "\n",
    "eng2sp = dict()\n",
    "eng2sp['one'] = 'uno'\n",
    "print(eng2sp)\n",
    "eng2sp = {'one': 'uno', 'two': 'dos', 'three': 'tres'}\n",
    "print(eng2sp)\n",
    "print(eng2sp['two']) # Lookup 'two'\n",
    "print('one' in eng2sp)\n",
    "print('uno' in eng2sp)\n",
    "vals = eng2sp.values()\n",
    "print('uno' in vals)\n",
    "\n",
    "# For dictionaries, Python uses an algorithm called a hashtable \n",
    "# that has a remarkable property: \n",
    "# the in operator takes about the same amount of time \n",
    "# no matter how many items are in the dictionary.\n",
    "\n",
    "# Repetition of key assigns latest value\n",
    "eng2sp = {'one': 'uno', 'one': 'dos', 'four': 'quo'}\n",
    "print(eng2sp)"
   ]
  },
  {
   "cell_type": "code",
   "execution_count": 2,
   "metadata": {},
   "outputs": [
    {
     "name": "stdout",
     "output_type": "stream",
     "text": [
      "{'b': 1, 'r': 2, 'o': 2, 'n': 1, 't': 1, 's': 2, 'a': 1, 'u': 2}\n",
      "2\n",
      "0\n"
     ]
    }
   ],
   "source": [
    "# Dictionary as a Collection of Counters\n",
    "\n",
    "def histogram(s):\n",
    "    d = dict()\n",
    "    for c in s:\n",
    "        if c not in d:\n",
    "            d[c] = 1\n",
    "        else:\n",
    "            d[c] += 1\n",
    "    return d\n",
    "\n",
    "h = histogram('brontosaurus')\n",
    "print(h)\n",
    "\n",
    "print(h.get('s', 0)) # get key for s, otherwise return 0\n",
    "print(h.get('q', 0))"
   ]
  },
  {
   "cell_type": "code",
   "execution_count": 3,
   "metadata": {},
   "outputs": [
    {
     "name": "stdout",
     "output_type": "stream",
     "text": [
      "b 1\n",
      "r 2\n",
      "o 2\n",
      "n 1\n",
      "t 1\n",
      "s 2\n",
      "a 1\n",
      "u 2\n",
      "\n",
      "a 1\n",
      "b 1\n",
      "n 1\n",
      "o 2\n",
      "r 2\n",
      "s 2\n",
      "t 1\n",
      "u 2\n"
     ]
    }
   ],
   "source": [
    "# Looping and Dictionaries\n",
    "\n",
    "def print_hist(h):\n",
    "    for c in h:\n",
    "        print(c, h[c])\n",
    "\n",
    "print_hist(h)\n",
    "\n",
    "print()\n",
    "\n",
    "for key in sorted(h):\n",
    "    print(key, h[key])"
   ]
  },
  {
   "cell_type": "code",
   "execution_count": 4,
   "metadata": {},
   "outputs": [
    {
     "name": "stdout",
     "output_type": "stream",
     "text": [
      "r\n"
     ]
    }
   ],
   "source": [
    "# Reverse Lookup\n",
    "\n",
    "def reverse_lookup(d, v):\n",
    "    for k in d:\n",
    "        if d[k] == v:\n",
    "            return k\n",
    "    raise LookupError()\n",
    "    \n",
    "print(reverse_lookup(h, 2)) # works only for first instance \n",
    "                            # since that's the extent of our interface"
   ]
  },
  {
   "cell_type": "code",
   "execution_count": 5,
   "metadata": {},
   "outputs": [
    {
     "name": "stdout",
     "output_type": "stream",
     "text": [
      "p 1\n",
      "a 1\n",
      "r 2\n",
      "o 1\n",
      "t 1\n",
      "\n",
      "1 ['p', 'a', 'o', 't']\n",
      "2 ['r']\n"
     ]
    }
   ],
   "source": [
    "# Dictionaries and Lists\n",
    "\n",
    "# Lists can appear as values in a dictionary.\n",
    "# And this is important to allow dictionary inversion\n",
    "\n",
    "def invert_dict(d):\n",
    "    inverse = dict()\n",
    "    for key in d:\n",
    "        val = d[key]\n",
    "        if val not in inverse:\n",
    "            inverse[val] = [key] # singleton list\n",
    "        else:\n",
    "            inverse[val].append(key)\n",
    "    return inverse\n",
    "\n",
    "hist = histogram('parrot')\n",
    "print_hist(hist)\n",
    "\n",
    "print()\n",
    "\n",
    "inverse = invert_dict(hist)\n",
    "print_hist(inverse)\n",
    "\n",
    "# But they can't appear as keys in a dictionary.\n",
    "# And this is because keys need to be hashable\n",
    "# (need to point to unique integer)"
   ]
  },
  {
   "cell_type": "code",
   "execution_count": 6,
   "metadata": {},
   "outputs": [],
   "source": [
    "# Memos: Making it faster with Memoization\n",
    "\n",
    "# To keep track of values that have already been computed by storing\n",
    "# them in a dictionary. A previously computed value that is stored \n",
    "# for later use is called a memo. \n",
    "\n",
    "# Here is a “memoized” version of fibonacci:\n",
    "\n",
    "known = {0:0, 1:1} # we already know fibo(0) and fibo(1)\n",
    "\n",
    "def fibonacci(n):\n",
    "    if n in known:\n",
    "        return known[n]\n",
    "    res = fibonacci(n-1) + fibonacci(n-2)\n",
    "    known[n] = res\n",
    "    return res\n",
    "\n"
   ]
  },
  {
   "cell_type": "code",
   "execution_count": 7,
   "metadata": {},
   "outputs": [
    {
     "name": "stdout",
     "output_type": "stream",
     "text": [
      "Running example1\n",
      "False\n",
      "True\n",
      "{0: 0, 1: 1, 2: 1}\n"
     ]
    }
   ],
   "source": [
    "# Global Variables\n",
    "\n",
    "# use global variables for flags\n",
    "verbose = True\n",
    "def example1():\n",
    "    if verbose:\n",
    "        print('Running example1')\n",
    "\n",
    "example1()\n",
    "\n",
    "# But, to reassign a global variable inside a function, \n",
    "# you have to declare the global variable before you use it:\n",
    "\n",
    "been_called = False\n",
    "def example2():\n",
    "    been_called = True # WRONG!\n",
    "\n",
    "example2()\n",
    "print(been_called)\n",
    "\n",
    "been_called = False\n",
    "def example3():\n",
    "    global been_called # RIGHT!\n",
    "    been_called = True\n",
    "\n",
    "example3()\n",
    "print(been_called)\n",
    "\n",
    "# Yet, if a global variable refers to a mutable value, \n",
    "# you can modify the value without declaring the variable:\n",
    "\n",
    "known = {0:0, 1:1}\n",
    "def example4():\n",
    "    known[2] = 1\n",
    "\n",
    "example4()\n",
    "print(known)\n",
    "\n",
    "# So you can add, remove and replace elements of \n",
    "# a global list or dictionary, but if you want to reassign \n",
    "# the variable, you have to declare it:\n",
    "\n",
    "def example5():\n",
    "    global known\n",
    "    known = dict()"
   ]
  },
  {
   "cell_type": "code",
   "execution_count": 8,
   "metadata": {},
   "outputs": [],
   "source": [
    "# Debugging"
   ]
  },
  {
   "cell_type": "code",
   "execution_count": 10,
   "metadata": {},
   "outputs": [
    {
     "name": "stdout",
     "output_type": "stream",
     "text": [
      "A Ala\n",
      "R Arg\n",
      "N Asn\n",
      "D Asp\n",
      "C Cys\n",
      "Q Gln\n",
      "E Glu\n",
      "G Gly\n",
      "H His\n",
      "I Ile\n",
      "L Leu\n",
      "K Lys\n",
      "M Met\n",
      "F Phe\n",
      "P Pro\n",
      "S Ser\n",
      "T Thr\n",
      "W Trp\n",
      "Y Tyr\n",
      "V Val\n"
     ]
    }
   ],
   "source": [
    "# Bioinformatics Amino Acid dictionary\n",
    "\n",
    "aa_dict = {\n",
    "    \"A\": \"Ala\",\n",
    "    \"R\": \"Arg\",\n",
    "    \"N\": \"Asn\",\n",
    "    \"D\": \"Asp\",\n",
    "    \"C\": \"Cys\",\n",
    "    \"Q\": \"Gln\",\n",
    "    \"E\": \"Glu\",\n",
    "    \"G\": \"Gly\",\n",
    "    \"H\": \"His\",\n",
    "    \"I\": \"Ile\",\n",
    "    \"L\": \"Leu\",\n",
    "    \"K\": \"Lys\",\n",
    "    \"M\": \"Met\",\n",
    "    \"F\": \"Phe\",\n",
    "    \"P\": \"Pro\",\n",
    "    \"S\": \"Ser\",\n",
    "    \"T\": \"Thr\",\n",
    "    \"W\": \"Trp\",\n",
    "    \"Y\": \"Tyr\",\n",
    "    \"V\": \"Val\",\n",
    "}\n",
    "\n",
    "print_hist(aa_dict)"
   ]
  },
  {
   "cell_type": "code",
   "execution_count": null,
   "metadata": {},
   "outputs": [],
   "source": []
  }
 ],
 "metadata": {
  "kernelspec": {
   "display_name": "Python 3",
   "language": "python",
   "name": "python3"
  },
  "language_info": {
   "codemirror_mode": {
    "name": "ipython",
    "version": 3
   },
   "file_extension": ".py",
   "mimetype": "text/x-python",
   "name": "python",
   "nbconvert_exporter": "python",
   "pygments_lexer": "ipython3",
   "version": "3.8.2"
  }
 },
 "nbformat": 4,
 "nbformat_minor": 4
}
