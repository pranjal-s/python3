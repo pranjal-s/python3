{
 "cells": [
  {
   "cell_type": "code",
   "execution_count": 2,
   "metadata": {},
   "outputs": [
    {
     "name": "stdout",
     "output_type": "stream",
     "text": [
      "None\n"
     ]
    }
   ],
   "source": [
    "# Return Values\n",
    "\n",
    "def area(radius):\n",
    "    return math.pi * radius**2\n",
    "\n",
    "def absolute_value(x):\n",
    "    if x < 0:\n",
    "        return -x\n",
    "        print('This part after return is \"dead code\"')\n",
    "    if x > 0:\n",
    "        return x\n",
    "    \n",
    "print(absolute_value(0)) # because we didn't take care of x == 0,\n",
    "                         # the return is 'not-defined'\n"
   ]
  },
  {
   "cell_type": "code",
   "execution_count": 5,
   "metadata": {},
   "outputs": [
    {
     "name": "stdout",
     "output_type": "stream",
     "text": [
      "2.23606797749979\n"
     ]
    }
   ],
   "source": [
    "# Incremental Development\n",
    "\n",
    "import math\n",
    "\n",
    "# We want to get there, but first get the basics right\n",
    "def distance(x1, y1, x2, y2):\n",
    "    return 0.0\n",
    "\n",
    "# Making sure of expected behaviour in steps\n",
    "def distance(x1, y1, x2, y2):\n",
    "    dx = x2 - x1\n",
    "    dy = y2 - y1\n",
    "    print('dx is', dx)\n",
    "    print('dy is', dy)\n",
    "    return 0.0\n",
    "\n",
    "# Until we're finally there\n",
    "def distance(x1, y1, x2, y2):\n",
    "    dx = x2 - x1\n",
    "    dy = y2 - y1\n",
    "    dsquared = dx**2 + dy**2\n",
    "    result = math.sqrt(dsquared)\n",
    "    return result\n",
    "\n",
    "print(distance(0,0,1,2))"
   ]
  },
  {
   "cell_type": "code",
   "execution_count": null,
   "metadata": {},
   "outputs": [],
   "source": [
    "# Composition"
   ]
  },
  {
   "cell_type": "code",
   "execution_count": 6,
   "metadata": {},
   "outputs": [],
   "source": [
    "# Boolean Functions\n",
    "\n",
    "def is_divisible(x, y):\n",
    "    if x % y == 0:\n",
    "        return True\n",
    "    else:\n",
    "        return False"
   ]
  },
  {
   "cell_type": "code",
   "execution_count": 7,
   "metadata": {},
   "outputs": [],
   "source": [
    "# More Recursion"
   ]
  },
  {
   "cell_type": "code",
   "execution_count": 8,
   "metadata": {},
   "outputs": [],
   "source": [
    "# Leap of Faith"
   ]
  },
  {
   "cell_type": "code",
   "execution_count": 9,
   "metadata": {},
   "outputs": [],
   "source": [
    "# One More Example\n",
    "\n",
    "def fibonacci(n):\n",
    "    if n == 0:\n",
    "        return 0\n",
    "    elif n == 1:\n",
    "        return 1\n",
    "    else:\n",
    "        return fibonacci(n-1) + fibonacci(n-2)"
   ]
  },
  {
   "cell_type": "code",
   "execution_count": null,
   "metadata": {},
   "outputs": [],
   "source": [
    "# Checking Types (Guardians)\n",
    "\n",
    "def factorial_check(n):\n",
    "    if not isinstance(n, int): # guardian 1\n",
    "        print('Factorial is only defined for integers.')\n",
    "        return None\n",
    "    elif n < 0: # guardian 2\n",
    "        print('Factorial is not defined for negative integers.')\n",
    "        return None\n",
    "    else:\n",
    "        return factorial(n)"
   ]
  },
  {
   "cell_type": "code",
   "execution_count": 10,
   "metadata": {},
   "outputs": [
    {
     "name": "stdout",
     "output_type": "stream",
     "text": [
      "                 factorial 4\n",
      "             factorial 3\n",
      "         factorial 2\n",
      "     factorial 1\n",
      " factorial 0\n",
      " returning 1\n",
      "     returning 1\n",
      "         returning 2\n",
      "             returning 6\n",
      "                 returning 24\n"
     ]
    },
    {
     "data": {
      "text/plain": [
       "24"
      ]
     },
     "execution_count": 10,
     "metadata": {},
     "output_type": "execute_result"
    }
   ],
   "source": [
    "# Debugging\n",
    "\n",
    "def factorial(n):\n",
    "    space = ' ' * (4 * n)\n",
    "    print(space, 'factorial', n)\n",
    "    if n == 0:\n",
    "        print(space, 'returning 1')\n",
    "        return 1\n",
    "    else:\n",
    "        recurse = factorial(n-1)\n",
    "        result = n * recurse\n",
    "        print(space, 'returning', result)\n",
    "        return result\n",
    "\n",
    "factorial(4)"
   ]
  },
  {
   "cell_type": "code",
   "execution_count": null,
   "metadata": {},
   "outputs": [],
   "source": []
  }
 ],
 "metadata": {
  "kernelspec": {
   "display_name": "Python 3",
   "language": "python",
   "name": "python3"
  },
  "language_info": {
   "codemirror_mode": {
    "name": "ipython",
    "version": 3
   },
   "file_extension": ".py",
   "mimetype": "text/x-python",
   "name": "python",
   "nbconvert_exporter": "python",
   "pygments_lexer": "ipython3",
   "version": "3.8.3"
  }
 },
 "nbformat": 4,
 "nbformat_minor": 4
}
