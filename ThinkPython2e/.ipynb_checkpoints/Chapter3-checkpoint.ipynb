{
 "cells": [
  {
   "cell_type": "code",
   "execution_count": 11,
   "metadata": {},
   "outputs": [
    {
     "name": "stdout",
     "output_type": "stream",
     "text": [
      "32\n",
      "32\n",
      "32\n",
      "32\n",
      "32.55\n",
      "32.55\n",
      "32.54\n",
      "32\n",
      "<class 'int'>\n"
     ]
    },
    {
     "data": {
      "text/plain": [
       "int"
      ]
     },
     "execution_count": 11,
     "metadata": {},
     "output_type": "execute_result"
    }
   ],
   "source": [
    "# Function Calls\n",
    "\n",
    "# conversion\n",
    "print(int(32.54))\n",
    "print(int(32.55))\n",
    "print(int(32.56))\n",
    "print(int('32'))\n",
    "print(float(32.55))\n",
    "print(float('32.55'))\n",
    "print(str('32.54'))\n",
    "\n",
    "#print(int('32.55')) # will give error, first convert to float\n",
    "print(int(float('32.55')))\n",
    "\n",
    "print(type(42)) # prints the returned object of the argument\n",
    "type(42) # returns 'int' of type 'class'"
   ]
  },
  {
   "cell_type": "code",
   "execution_count": 2,
   "metadata": {},
   "outputs": [
    {
     "name": "stdout",
     "output_type": "stream",
     "text": [
      "3.0\n",
      "3.275\n"
     ]
    }
   ],
   "source": [
    "# Modules\n",
    "\n",
    "import numpy as np\n",
    "\n",
    "print(np.mean([1, 2, 3, 4, 5]))\n",
    "print(np.mean((4.5, 1.2, -1.6, 9.0)))"
   ]
  },
  {
   "cell_type": "code",
   "execution_count": 19,
   "metadata": {},
   "outputs": [
    {
     "name": "stdout",
     "output_type": "stream",
     "text": [
      "<module 'math' from '/home/pranjal/anaconda3/lib/python3.8/lib-dynload/math.cpython-38-x86_64-linux-gnu.so'>\n",
      "\n",
      "29.456423376774072\n"
     ]
    }
   ],
   "source": [
    "# Math Functions\n",
    "\n",
    "import math # import the math module\n",
    "print(math)\n",
    "print()\n",
    "\n",
    "#  dot notation\n",
    "signal_power = 15\n",
    "noise_power = 0.017\n",
    "ratio = signal_power / noise_power\n",
    "decibels = 10 * math.log10(ratio)\n",
    "print(decibels)"
   ]
  },
  {
   "cell_type": "code",
   "execution_count": 23,
   "metadata": {},
   "outputs": [
    {
     "data": {
      "text/plain": [
       "1.7071067811865475"
      ]
     },
     "execution_count": 23,
     "metadata": {},
     "output_type": "execute_result"
    }
   ],
   "source": [
    "# Composition\n",
    "\n",
    "# Combine functions, variables expressions and statements together\n",
    "degrees = 45\n",
    "y = math.sin(degrees / 360.0 * 2 * math.pi)\n",
    "math.exp(math.log(y+1))"
   ]
  },
  {
   "cell_type": "code",
   "execution_count": 29,
   "metadata": {},
   "outputs": [
    {
     "name": "stdout",
     "output_type": "stream",
     "text": [
      "<function print_lyrics at 0x7f9ac75bf280>\n",
      "<class 'function'>\n",
      "I'm a lumberjack, and I'm okay.\n",
      "I sleep all night and I work all day.\n"
     ]
    }
   ],
   "source": [
    "# Adding New Functions\n",
    "\n",
    "# function definition\n",
    "def print_lyrics(): # function header\n",
    "    print(\"I'm a lumberjack, and I'm okay.\") # function body\n",
    "    print(\"I sleep all night and I work all day.\") # function body\n",
    "# function end (empty line)\n",
    "\n",
    "print(print_lyrics) # print the function object\n",
    "print(type(print_lyrics))\n",
    "\n",
    "print_lyrics() # function call"
   ]
  },
  {
   "cell_type": "code",
   "execution_count": 30,
   "metadata": {},
   "outputs": [],
   "source": [
    "# Definitions and Uses"
   ]
  },
  {
   "cell_type": "code",
   "execution_count": 31,
   "metadata": {},
   "outputs": [],
   "source": [
    "# Flow of Execution\n",
    "\n",
    "# Function definitions do not alter the flow of execution \n",
    "# of the program, but remember that statements inside the \n",
    "# function don’t run until the function is called."
   ]
  },
  {
   "cell_type": "code",
   "execution_count": 35,
   "metadata": {},
   "outputs": [
    {
     "name": "stdout",
     "output_type": "stream",
     "text": [
      "Spam\n",
      "Spam\n",
      "42.5\n",
      "42.5\n"
     ]
    }
   ],
   "source": [
    "# Parameters and Arguments\n",
    "\n",
    "def print_twice(bruce): # bruce is function parameter\n",
    "    print(bruce)\n",
    "    print(bruce)\n",
    "\n",
    "print_twice('Spam') # Span is argument\n",
    "print_twice(42.5) # Unlike C++, we don't need to be explicit"
   ]
  },
  {
   "cell_type": "code",
   "execution_count": 37,
   "metadata": {},
   "outputs": [
    {
     "name": "stdout",
     "output_type": "stream",
     "text": [
      "Bing tiddle tiddle bang.\n",
      "Bing tiddle tiddle bang.\n"
     ]
    },
    {
     "ename": "NameError",
     "evalue": "name 'cat' is not defined",
     "output_type": "error",
     "traceback": [
      "\u001b[0;31m---------------------------------------------------------------------------\u001b[0m",
      "\u001b[0;31mNameError\u001b[0m                                 Traceback (most recent call last)",
      "\u001b[0;32m<ipython-input-37-e0c48e86cbf5>\u001b[0m in \u001b[0;36m<module>\u001b[0;34m\u001b[0m\n\u001b[1;32m      9\u001b[0m \u001b[0mcat_twice\u001b[0m\u001b[0;34m(\u001b[0m\u001b[0mline1\u001b[0m\u001b[0;34m,\u001b[0m \u001b[0mline2\u001b[0m\u001b[0;34m)\u001b[0m\u001b[0;34m\u001b[0m\u001b[0;34m\u001b[0m\u001b[0m\n\u001b[1;32m     10\u001b[0m \u001b[0;34m\u001b[0m\u001b[0m\n\u001b[0;32m---> 11\u001b[0;31m \u001b[0mprint\u001b[0m\u001b[0;34m(\u001b[0m\u001b[0mcat\u001b[0m\u001b[0;34m)\u001b[0m\u001b[0;34m\u001b[0m\u001b[0;34m\u001b[0m\u001b[0m\n\u001b[0m",
      "\u001b[0;31mNameError\u001b[0m: name 'cat' is not defined"
     ]
    }
   ],
   "source": [
    "# Variables and Parameters Are Local (Scope)\n",
    "\n",
    "def cat_twice(part1, part2):\n",
    "    cat = part1 + part2\n",
    "    print_twice(cat)\n",
    "\n",
    "line1 = 'Bing tiddle '\n",
    "line2 = 'tiddle bang.'\n",
    "cat_twice(line1, line2)\n",
    "\n",
    "print(cat)"
   ]
  },
  {
   "cell_type": "code",
   "execution_count": 38,
   "metadata": {},
   "outputs": [],
   "source": [
    "# Stack Diagrams\n",
    "\n",
    "# When you create a variable outside of any function,\n",
    "# it belongs to __main__."
   ]
  },
  {
   "cell_type": "code",
   "execution_count": 39,
   "metadata": {},
   "outputs": [],
   "source": [
    "# Fruitful Functions and Void Functions"
   ]
  },
  {
   "cell_type": "code",
   "execution_count": 40,
   "metadata": {},
   "outputs": [],
   "source": [
    "# Why Functions?"
   ]
  },
  {
   "cell_type": "code",
   "execution_count": 41,
   "metadata": {},
   "outputs": [],
   "source": [
    "# Why Functions?"
   ]
  },
  {
   "cell_type": "code",
   "execution_count": null,
   "metadata": {},
   "outputs": [],
   "source": []
  }
 ],
 "metadata": {
  "kernelspec": {
   "display_name": "Python 3",
   "language": "python",
   "name": "python3"
  },
  "language_info": {
   "codemirror_mode": {
    "name": "ipython",
    "version": 3
   },
   "file_extension": ".py",
   "mimetype": "text/x-python",
   "name": "python",
   "nbconvert_exporter": "python",
   "pygments_lexer": "ipython3",
   "version": "3.8.2"
  }
 },
 "nbformat": 4,
 "nbformat_minor": 4
}
