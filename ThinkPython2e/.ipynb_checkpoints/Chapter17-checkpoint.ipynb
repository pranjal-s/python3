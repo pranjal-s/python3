{
 "cells": [
  {
   "cell_type": "code",
   "execution_count": 52,
   "metadata": {},
   "outputs": [
    {
     "name": "stdout",
     "output_type": "stream",
     "text": [
      "09:45:00\n",
      "09:45:00\n"
     ]
    }
   ],
   "source": [
    "# Object-Oriented Features\n",
    "\n",
    "# Methods (member functions)\n",
    "class Time:\n",
    "    def print_time(time):\n",
    "        print('%.2d:%.2d:%.2d' % (time.hour,time.minute,time.second))\n",
    "    \n",
    "    def time_to_int(time):\n",
    "        minutes = time.hour * 60 + time.minute\n",
    "        seconds = minutes * 60 + time.second\n",
    "        return seconds\n",
    "    \n",
    "    def int_to_time(self,seconds):\n",
    "        time = Time()\n",
    "        minutes, time.second = divmod(seconds, 60)\n",
    "        time.hour, time.minute = divmod(minutes, 60)\n",
    "        return time\n",
    "\n",
    "    # If using Time then Time.increment(instance, sec) else, instance.increment(sec)\n",
    "    def increment(self, seconds): # take note of self!\n",
    "        seconds += self.time_to_int()\n",
    "        return self.int_to_time(seconds)\n",
    "\n",
    "    def is_after(self, other):    # take note of the other!\n",
    "        return self.time_to_int() > other.time_to_int()\n",
    "    \n",
    "    def __init__(self, hour=0, minute=0, second=0): # data members\n",
    "        self.hour = hour\n",
    "        self.minute = minute\n",
    "        self.second = second\n",
    "\n",
    "    def __str__(self): # print statement\n",
    "        return '%.2d:%.2d:%.2d' % (self.hour,self.minute,self.second)\n",
    "    \n",
    "    #def __add__(self, other): # operator overloading\n",
    "    #    seconds = self.time_to_int() + other.time_to_int()\n",
    "    #    return int_to_time(seconds)\n",
    "    \n",
    "    def __add__(self, other): # type-based dispatch\n",
    "        if isinstance(other, Time):\n",
    "            return self.add_time(other)\n",
    "        else:\n",
    "            return self.increment(other)\n",
    "           \n",
    "    def add_time(self, other):\n",
    "        seconds = self.time_to_int() + other.time_to_int()\n",
    "        return self.int_to_time(seconds)\n",
    "    \n",
    "    def __radd__(self, other): # right-side add overloading\n",
    "        return self.__add__(other)\n",
    "\n",
    "start = Time()\n",
    "start.hour = 9\n",
    "start.minute = 45\n",
    "start.second = 0\n",
    "Time.print_time(start)\n",
    "start.print_time()"
   ]
  },
  {
   "cell_type": "code",
   "execution_count": 53,
   "metadata": {},
   "outputs": [
    {
     "name": "stdout",
     "output_type": "stream",
     "text": [
      "09:45:00\n",
      "10:07:17\n"
     ]
    }
   ],
   "source": [
    "# Another Example\n",
    "\n",
    "start.print_time()\n",
    "end = start.increment(1337)\n",
    "end.print_time()"
   ]
  },
  {
   "cell_type": "code",
   "execution_count": 54,
   "metadata": {},
   "outputs": [
    {
     "data": {
      "text/plain": [
       "True"
      ]
     },
     "execution_count": 54,
     "metadata": {},
     "output_type": "execute_result"
    }
   ],
   "source": [
    "# A More Complicated Example\n",
    "\n",
    "end.is_after(start)"
   ]
  },
  {
   "cell_type": "code",
   "execution_count": 55,
   "metadata": {},
   "outputs": [
    {
     "name": "stdout",
     "output_type": "stream",
     "text": [
      "09:45:01\n"
     ]
    }
   ],
   "source": [
    "# The init Method\n",
    "\n",
    "time = Time(9,45,1)\n",
    "time.print_time()"
   ]
  },
  {
   "cell_type": "code",
   "execution_count": 56,
   "metadata": {},
   "outputs": [
    {
     "name": "stdout",
     "output_type": "stream",
     "text": [
      "09:45:00\n"
     ]
    }
   ],
   "source": [
    "# The __str__ Method\n",
    "# Supposed to return a string representation of an object.\n",
    "\n",
    "time = Time(9, 45)\n",
    "print(time)"
   ]
  },
  {
   "cell_type": "code",
   "execution_count": 57,
   "metadata": {},
   "outputs": [
    {
     "name": "stdout",
     "output_type": "stream",
     "text": [
      "11:20:00\n"
     ]
    }
   ],
   "source": [
    "# Operator Overloading\n",
    "\n",
    "start = Time(9, 45)\n",
    "duration = Time(1, 35)\n",
    "print(start + duration)"
   ]
  },
  {
   "cell_type": "code",
   "execution_count": 58,
   "metadata": {},
   "outputs": [
    {
     "name": "stdout",
     "output_type": "stream",
     "text": [
      "11:20:00\n",
      "10:07:17\n",
      "10:07:17\n"
     ]
    }
   ],
   "source": [
    "# Type-Based Dispatch\n",
    "\n",
    "start = Time(9, 45)\n",
    "duration = Time(1, 35)\n",
    "print(start + duration)\n",
    "print(start + 1337)\n",
    "print(1337 + start)"
   ]
  },
  {
   "cell_type": "code",
   "execution_count": 60,
   "metadata": {},
   "outputs": [
    {
     "name": "stdout",
     "output_type": "stream",
     "text": [
      "23:01:00\n"
     ]
    }
   ],
   "source": [
    "# Polymorphism\n",
    "\n",
    "# Functions that work with several types are called polymorphic. \n",
    "# Polymorphism can facilitate code reuse. For example, the built-in \n",
    "# function sum, which adds the elements of a sequence, \n",
    "# works as long as the elements of the sequence support addition.\n",
    "\n",
    "t1 = Time(7, 43)\n",
    "t2 = Time(7, 41)\n",
    "t3 = Time(7, 37)\n",
    "total = sum([t1, t2, t3])\n",
    "print(total)"
   ]
  },
  {
   "cell_type": "code",
   "execution_count": 61,
   "metadata": {},
   "outputs": [],
   "source": [
    "# Interface and Implementation"
   ]
  },
  {
   "cell_type": "code",
   "execution_count": 66,
   "metadata": {},
   "outputs": [
    {
     "name": "stdout",
     "output_type": "stream",
     "text": [
      "{'x': 3, 'y': 4, 'z': 0}\n",
      "x 3\n",
      "y 4\n",
      "z 0\n"
     ]
    }
   ],
   "source": [
    "# Debugging\n",
    "\n",
    "class Point:\n",
    "    \"\"\"Point class\"\"\"\n",
    "    def __init__(self, x=0, y=0, z=0): # data members\n",
    "        self.x = x\n",
    "        self.y = y\n",
    "        self.z = z\n",
    "        \n",
    "\n",
    "p = Point(3, 4)\n",
    "print(vars(p)) # list all variables and the values they have\n",
    "\n",
    "def print_attributes(obj):\n",
    "    for attr in vars(obj):\n",
    "        print(attr, getattr(obj, attr))\n",
    "\n",
    "print_attributes(p)"
   ]
  },
  {
   "cell_type": "code",
   "execution_count": null,
   "metadata": {},
   "outputs": [],
   "source": []
  }
 ],
 "metadata": {
  "kernelspec": {
   "display_name": "Python 3",
   "language": "python",
   "name": "python3"
  },
  "language_info": {
   "codemirror_mode": {
    "name": "ipython",
    "version": 3
   },
   "file_extension": ".py",
   "mimetype": "text/x-python",
   "name": "python",
   "nbconvert_exporter": "python",
   "pygments_lexer": "ipython3",
   "version": "3.8.3"
  }
 },
 "nbformat": 4,
 "nbformat_minor": 4
}
