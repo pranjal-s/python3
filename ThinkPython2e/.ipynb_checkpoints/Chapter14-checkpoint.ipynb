{
 "cells": [
  {
   "cell_type": "code",
   "execution_count": 1,
   "metadata": {},
   "outputs": [],
   "source": [
    "# Persistence"
   ]
  },
  {
   "cell_type": "code",
   "execution_count": 2,
   "metadata": {},
   "outputs": [],
   "source": [
    "# Reading and Writing\n",
    "\n",
    "fout = open('output.txt', 'w')\n",
    "line1 = \"This here's the wattle,\\n\"\n",
    "fout.write(line1)\n",
    "line2 = \"the emblem of our land.\\n\"\n",
    "fout.write(line2)\n",
    "fout.close()"
   ]
  },
  {
   "cell_type": "code",
   "execution_count": 3,
   "metadata": {},
   "outputs": [
    {
     "name": "stdout",
     "output_type": "stream",
     "text": [
      "I have spotted 42 camels.\n",
      "In 3 years I have spotted 0.1 camels.\n"
     ]
    }
   ],
   "source": [
    "# Format Operator\n",
    "\n",
    "camels = 42\n",
    "print('I have spotted %d camels.' % camels)\n",
    "print('In %d years I have spotted %g %s.' %(3, 0.1, 'camels'))"
   ]
  },
  {
   "cell_type": "code",
   "execution_count": 4,
   "metadata": {},
   "outputs": [
    {
     "name": "stdout",
     "output_type": "stream",
     "text": [
      "/media/pranjal/storage/office/PSU/1 Courses/6.5 Summer 2020/Python/ThinkPython2e\n",
      "/media/pranjal/storage/office/PSU/1 Courses/6.5 Summer 2020/Python/ThinkPython2e/output.txt\n",
      "False\n",
      "True\n",
      "['.ipynb_checkpoints', 'captions.bak', 'captions.dat', 'captions.dir', 'Chapter1.ipynb', 'Chapter10.ipynb', 'Chapter11.ipynb', 'Chapter12.ipynb', 'Chapter13.ipynb', 'Chapter14.ipynb', 'Chapter2.ipynb', 'Chapter3.ipynb', 'Chapter4-Exercises.ipynb', 'Chapter4.ipynb', 'Chapter5.ipynb', 'Chapter6.ipynb', 'Chapter7.ipynb', 'Chapter8.ipynb', 'Chapter9.ipynb', 'mypolygon.py', 'output.txt', 'scriptmode.py', 'start.sh', 'words.txt']\n"
     ]
    }
   ],
   "source": [
    "# Filenames and Paths\n",
    "\n",
    "import os\n",
    "cwd = os.getcwd() # current working directory\n",
    "print(cwd)\n",
    "print(os.path.abspath('output.txt')) # get absolute path\n",
    "print(os.path.exists('memo.txt')) # check if file exists\n",
    "print(os.path.isdir('/home/pranjal'))\n",
    "print(os.listdir(cwd))"
   ]
  },
  {
   "cell_type": "code",
   "execution_count": 5,
   "metadata": {},
   "outputs": [
    {
     "name": "stdout",
     "output_type": "stream",
     "text": [
      "Something went wrong.\n"
     ]
    }
   ],
   "source": [
    "# Catching Exceptions\n",
    "\n",
    "try:\n",
    "    fin = open('bad_file')\n",
    "except:\n",
    "    print('Something went wrong.')"
   ]
  },
  {
   "cell_type": "code",
   "execution_count": 6,
   "metadata": {},
   "outputs": [
    {
     "name": "stdout",
     "output_type": "stream",
     "text": [
      "b'Photo of John Cleese.'\n",
      "<class 'bytes'>\n",
      "b'cleese.png' b'Photo of John Cleese.'\n"
     ]
    }
   ],
   "source": [
    "# Databases\n",
    "# A database is a file that is organized for storing data.\n",
    "# Unlike data structures, it is data stored in permanent storage,\n",
    "# and is hence accessible during and after program ends.\n",
    "# It stores data in dictionary format.\n",
    "\n",
    "import dbm\n",
    "db = dbm.open('captions','c') # c = create if doesn't exist\n",
    "\n",
    "db['cleese.png'] = 'Photo of John Cleese.'\n",
    "print(db['cleese.png']) # begins with b because its bytes object\n",
    "print(type(db['cleese.png'])) # bytes is similar to string\n",
    "\n",
    "# .keys and .items doesn't work but iteration does\n",
    "for key in db:\n",
    "    print(key, db[key])\n",
    "\n",
    "db.close()"
   ]
  },
  {
   "cell_type": "code",
   "execution_count": 7,
   "metadata": {},
   "outputs": [
    {
     "name": "stdout",
     "output_type": "stream",
     "text": [
      "b'\\x80\\x04\\x95\\x0b\\x00\\x00\\x00\\x00\\x00\\x00\\x00]\\x94(K\\x01K\\x02K\\x03e.'\n",
      "[1, 2, 3]\n",
      "True\n",
      "False\n"
     ]
    }
   ],
   "source": [
    "# Pickling\n",
    "# dbm is limited to string/bytes\n",
    "# pickle translates any type to string-suitable for dbm and back\n",
    "\n",
    "import pickle\n",
    "t = [1, 2, 3]\n",
    "print(pickle.dumps(t)) # not readable by humans but for pickle and dbm\n",
    "\n",
    "t1 = [1, 2, 3]\n",
    "s = pickle.dumps(t1)\n",
    "t2 = pickle.loads(s)\n",
    "print(t2)\n",
    "\n",
    "print(t1==t2)\n",
    "print(t1 is t2) # new object"
   ]
  },
  {
   "cell_type": "code",
   "execution_count": 26,
   "metadata": {},
   "outputs": [
    {
     "name": "stdout",
     "output_type": "stream",
     "text": [
      "total 1108\n",
      "-rwxrwxrwx 1 pranjal pranjal      22 Jul 31 21:50 captions.bak\n",
      "-rwxrwxrwx 1 pranjal pranjal      21 Jul 31 21:50 captions.dat\n",
      "-rwxrwxrwx 1 pranjal pranjal      22 Jul 31 21:50 captions.dir\n",
      "-rwxrwxrwx 1 pranjal pranjal    9769 Jul 31 21:17 Chapter10.ipynb\n",
      "-rwxrwxrwx 1 pranjal pranjal    7388 Jul 29 00:18 Chapter11.ipynb\n",
      "-rwxrwxrwx 1 pranjal pranjal    8461 Jul 29 01:37 Chapter12.ipynb\n",
      "-rwxrwxrwx 1 pranjal pranjal    2964 Jul 31 21:17 Chapter13.ipynb\n",
      "-rwxrwxrwx 1 pranjal pranjal    8178 Jul 31 22:07 Chapter14.ipynb\n",
      "-rwxrwxrwx 1 pranjal pranjal    2554 Jul 28 18:18 Chapter1.ipynb\n",
      "-rwxrwxrwx 1 pranjal pranjal    4642 Jul 28 18:18 Chapter2.ipynb\n",
      "-rwxrwxrwx 1 pranjal pranjal    6916 Jul 28 18:17 Chapter3.ipynb\n",
      "-rwxrwxrwx 1 pranjal pranjal     794 Jul 28 19:38 Chapter4-Exercises.ipynb\n",
      "-rwxrwxrwx 1 pranjal pranjal    5726 Jul 28 19:36 Chapter4.ipynb\n",
      "-rwxrwxrwx 1 pranjal pranjal    8037 Jul 28 19:59 Chapter5.ipynb\n",
      "-rwxrwxrwx 1 pranjal pranjal    4931 Jul 28 20:19 Chapter6.ipynb\n",
      "-rwxrwxrwx 1 pranjal pranjal    3098 Jul 28 20:41 Chapter7.ipynb\n",
      "-rwxrwxrwx 1 pranjal pranjal    6638 Jul 28 21:10 Chapter8.ipynb\n",
      "-rwxrwxrwx 1 pranjal pranjal    2280 Jul 28 21:21 Chapter9.ipynb\n",
      "-rwxrwxrwx 1 pranjal pranjal      66 Jul 28 18:31 mypolygon.py\n",
      "-rwxrwxrwx 1 pranjal pranjal      48 Jul 31 22:08 output2.txt\n",
      "-rwxrwxrwx 1 pranjal pranjal      48 Jul 31 21:50 output.txt\n",
      "-rwxrwxrwx 1 pranjal pranjal      29 Jul 28 17:34 scriptmode.py\n",
      "-rwxrwxrwx 1 pranjal pranjal      93 Jul 28 17:03 start.sh\n",
      "-rwxrwxrwx 1 pranjal pranjal 1016715 Jul 28 21:13 words.txt\n",
      "\n",
      "None\n",
      "1e8a5c939e4d85c9a475c8d1df2dc447\n",
      "1e8a5c939e4d85c9a475c8d1df2dc447\n",
      "True\n"
     ]
    }
   ],
   "source": [
    "# Pipes\n",
    "\n",
    "import os\n",
    "\n",
    "cmd = 'ls -l'\n",
    "fp = os.popen(cmd)\n",
    "res = fp.read()\n",
    "print(res)\n",
    "stat = fp.close()\n",
    "print(stat) # None means ended normally\n",
    "\n",
    "# an efficient way to check whether two files have the same contents\n",
    "filename = 'output.txt'\n",
    "cmd = 'md5sum ' + filename\n",
    "fp = os.popen(cmd)\n",
    "res = fp.read()\n",
    "stat = fp.close()\n",
    "print(res.split()[0])\n",
    "filename2 = 'output2.txt'\n",
    "cmd = 'md5sum ' + filename2\n",
    "fp = os.popen(cmd)\n",
    "res2 = fp.read()\n",
    "stat = fp.close()\n",
    "print(res2.split()[0])\n",
    "\n",
    "print(res.split()[0]==res2.split()[0])"
   ]
  },
  {
   "cell_type": "code",
   "execution_count": 31,
   "metadata": {},
   "outputs": [
    {
     "name": "stdout",
     "output_type": "stream",
     "text": [
      "<module 'wc' from '/media/pranjal/storage/office/PSU/1 Courses/6.5 Summer 2020/Python/ThinkPython2e/wc.py'>\n"
     ]
    },
    {
     "data": {
      "text/plain": [
       "1"
      ]
     },
     "execution_count": 31,
     "metadata": {},
     "output_type": "execute_result"
    }
   ],
   "source": [
    "# Writing Modules\n",
    "\n",
    "import wc\n",
    "\n",
    "print(wc)\n",
    "\n",
    "wc.linecount('scriptmode.py')\n",
    "\n",
    "# reload sometimes works \n",
    "# but best to restart the interpreter for reloading a modified module"
   ]
  },
  {
   "cell_type": "code",
   "execution_count": 32,
   "metadata": {},
   "outputs": [
    {
     "name": "stdout",
     "output_type": "stream",
     "text": [
      "1 2\t 3\n",
      " 4\n",
      "'1 2\\t 3\\n 4'\n"
     ]
    }
   ],
   "source": [
    "# Debugging\n",
    "\n",
    "s = '1 2\\t 3\\n 4'\n",
    "print(s)\n",
    "print(repr(s))"
   ]
  },
  {
   "cell_type": "code",
   "execution_count": null,
   "metadata": {},
   "outputs": [],
   "source": []
  }
 ],
 "metadata": {
  "kernelspec": {
   "display_name": "Python 3",
   "language": "python",
   "name": "python3"
  },
  "language_info": {
   "codemirror_mode": {
    "name": "ipython",
    "version": 3
   },
   "file_extension": ".py",
   "mimetype": "text/x-python",
   "name": "python",
   "nbconvert_exporter": "python",
   "pygments_lexer": "ipython3",
   "version": "3.8.3"
  }
 },
 "nbformat": 4,
 "nbformat_minor": 4
}
