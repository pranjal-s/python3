{
 "cells": [
  {
   "cell_type": "code",
   "execution_count": 4,
   "metadata": {},
   "outputs": [],
   "source": [
    "# Conditional Expressions\n",
    "\n",
    "import math\n",
    "\n",
    "x = 3\n",
    "\n",
    "y = math.log(x) if x > 0 else float('nan')\n",
    "\n",
    "def factorial(n):\n",
    "    if n == 0:\n",
    "        return 1\n",
    "    else:\n",
    "        return n * factorial(n-1)\n",
    "\n",
    "def factorial_ce(n):\n",
    "    return 1 if n == 0 else n * factorial_ce(n-1)\n",
    "\n",
    "def __init__(self, name, contents=None):\n",
    "    self.name = name\n",
    "    if contents == None:\n",
    "        contents = []\n",
    "    self.pouch_contents = contents\n",
    "\n",
    "def __init___ce(self, name, contents=None):\n",
    "    self.name = name\n",
    "    self.pouch_contents = [] if contents == None else contents"
   ]
  },
  {
   "cell_type": "code",
   "execution_count": 5,
   "metadata": {},
   "outputs": [],
   "source": [
    "# List Comprehensions (fast and comprehensible but hard to debug)\n",
    "\n",
    "def capitalize_all(t):\n",
    "    res = []\n",
    "    for s in t:\n",
    "        res.append(s.capitalize())\n",
    "    return res\n",
    "\n",
    "def capitalize_all_lc(t):\n",
    "    return [s.capitalize() for s in t]\n",
    "\n",
    "def only_upper(t):\n",
    "    res = []\n",
    "    for s in t:\n",
    "        if s.isupper():\n",
    "            res.append(s)\n",
    "    return res\n",
    "\n",
    "def only_upper(t):\n",
    "    return [s for s in t if s.isupper()]\n"
   ]
  },
  {
   "cell_type": "code",
   "execution_count": 14,
   "metadata": {},
   "outputs": [
    {
     "name": "stdout",
     "output_type": "stream",
     "text": [
      "30\n",
      "<generator object <genexpr> at 0x7f1f407a1ba0>\n",
      "0\n",
      "1\n",
      "4\n",
      "9\n",
      "16\n"
     ]
    },
    {
     "ename": "StopIteration",
     "evalue": "",
     "output_type": "error",
     "traceback": [
      "\u001b[0;31m---------------------------------------------------------------------------\u001b[0m",
      "\u001b[0;31mStopIteration\u001b[0m                             Traceback (most recent call last)",
      "\u001b[0;32m<ipython-input-14-3ac33b4598ce>\u001b[0m in \u001b[0;36m<module>\u001b[0;34m\u001b[0m\n\u001b[1;32m     12\u001b[0m     \u001b[0mprint\u001b[0m\u001b[0;34m(\u001b[0m\u001b[0mval\u001b[0m\u001b[0;34m)\u001b[0m\u001b[0;34m\u001b[0m\u001b[0;34m\u001b[0m\u001b[0m\n\u001b[1;32m     13\u001b[0m \u001b[0;34m\u001b[0m\u001b[0m\n\u001b[0;32m---> 14\u001b[0;31m \u001b[0mnext\u001b[0m\u001b[0;34m(\u001b[0m\u001b[0mg\u001b[0m\u001b[0;34m)\u001b[0m \u001b[0;31m# Error if generator exhausted already\u001b[0m\u001b[0;34m\u001b[0m\u001b[0;34m\u001b[0m\u001b[0m\n\u001b[0m",
      "\u001b[0;31mStopIteration\u001b[0m: "
     ]
    }
   ],
   "source": [
    "# Generator Expressions\n",
    "\n",
    "g = (x**2 for x in range(5))\n",
    "\n",
    "print(sum(x**2 for x in range(5)))\n",
    "\n",
    "print(g)\n",
    "print(next(g))\n",
    "print(next(g))\n",
    "\n",
    "for val in g: # starts where it left off\n",
    "    print(val)\n",
    "\n",
    "next(g) # Error if generator exhausted already"
   ]
  },
  {
   "cell_type": "code",
   "execution_count": 17,
   "metadata": {},
   "outputs": [
    {
     "name": "stdout",
     "output_type": "stream",
     "text": [
      "True\n",
      "True\n"
     ]
    }
   ],
   "source": [
    "# any and all\n",
    "\n",
    "print(any([False, False, True]))\n",
    "print(any(letter == 't' for letter in 'monty'))\n",
    "def avoids(word, forbidden):\n",
    "    return not any(letter in forbidden for letter in word)"
   ]
  },
  {
   "cell_type": "code",
   "execution_count": 19,
   "metadata": {},
   "outputs": [
    {
     "name": "stdout",
     "output_type": "stream",
     "text": [
      "{2, 4, 6}\n",
      "set()\n"
     ]
    }
   ],
   "source": [
    "# Sets\n",
    "\n",
    "# a set behaves like a collection of dictionary keys with no values.\n",
    "# Adding elements to a set is fast; so is checking membership. \n",
    "# And sets provide methods and operators to compute common set \n",
    "# operations.\n",
    "\n",
    "s1 = {1, 2, 4, 9, 6, 3}\n",
    "s2 = {1, 9, 3}\n",
    "print(s1-s2)\n",
    "print(s2-s1)"
   ]
  },
  {
   "cell_type": "code",
   "execution_count": 23,
   "metadata": {},
   "outputs": [
    {
     "name": "stdout",
     "output_type": "stream",
     "text": [
      "Counter({'r': 2, 'p': 1, 'a': 1, 'o': 1, 't': 1})\n",
      "0\n"
     ]
    }
   ],
   "source": [
    "# Counters\n",
    "\n",
    "# A Counter is like a set, except that if an element appears more than\n",
    "# once, the Counter keeps track of how many times it appears.\n",
    "# a Counter is a natural way to represent a multiset.\n",
    "\n",
    "from collections import Counter\n",
    "count = Counter('parrot')\n",
    "print(count)\n",
    "\n",
    "# 0 instead of exception as in dictionary\n",
    "print(count['d'])"
   ]
  },
  {
   "cell_type": "code",
   "execution_count": null,
   "metadata": {},
   "outputs": [],
   "source": []
  }
 ],
 "metadata": {
  "kernelspec": {
   "display_name": "Python 3",
   "language": "python",
   "name": "python3"
  },
  "language_info": {
   "codemirror_mode": {
    "name": "ipython",
    "version": 3
   },
   "file_extension": ".py",
   "mimetype": "text/x-python",
   "name": "python",
   "nbconvert_exporter": "python",
   "pygments_lexer": "ipython3",
   "version": "3.8.3"
  }
 },
 "nbformat": 4,
 "nbformat_minor": 4
}
