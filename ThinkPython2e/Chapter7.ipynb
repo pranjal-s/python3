{
 "cells": [
  {
   "cell_type": "code",
   "execution_count": 1,
   "metadata": {},
   "outputs": [
    {
     "data": {
      "text/plain": [
       "5"
      ]
     },
     "execution_count": 1,
     "metadata": {},
     "output_type": "execute_result"
    }
   ],
   "source": [
    "# Reassignment\n",
    "\n",
    "a = 5\n",
    "b = a\n",
    "a = 3\n",
    "b"
   ]
  },
  {
   "cell_type": "code",
   "execution_count": 9,
   "metadata": {},
   "outputs": [
    {
     "name": "stdout",
     "output_type": "stream",
     "text": [
      "8\n",
      "6\n",
      "18\n",
      "4.5\n",
      "20.25\n"
     ]
    }
   ],
   "source": [
    "# Updating Variables\n",
    "\n",
    "x = 7\n",
    "x +=1\n",
    "print(x)\n",
    "x -=2\n",
    "print(x)\n",
    "x *=3\n",
    "print(x)\n",
    "x /=4\n",
    "print(x)\n",
    "x **=2\n",
    "print(x)"
   ]
  },
  {
   "cell_type": "code",
   "execution_count": 10,
   "metadata": {},
   "outputs": [],
   "source": [
    "# The while Statement\n",
    "\n",
    "def countdown(n):\n",
    "    while n > 0:\n",
    "        print(n)\n",
    "        n = n - 1\n",
    "    print('Blastoff!')"
   ]
  },
  {
   "cell_type": "code",
   "execution_count": 1,
   "metadata": {},
   "outputs": [
    {
     "name": "stdout",
     "output_type": "stream",
     "text": [
      "> hi\n",
      "hi\n",
      "> Done\n",
      "Done\n",
      "> done\n",
      "Done!\n"
     ]
    }
   ],
   "source": [
    "# break (NOT same as pass)\n",
    "\n",
    "while True:\n",
    "    line = input('> ')\n",
    "    if line == 'done':\n",
    "        break\n",
    "    print(line)\n",
    "\n",
    "print('Done!')"
   ]
  },
  {
   "cell_type": "code",
   "execution_count": 4,
   "metadata": {},
   "outputs": [
    {
     "name": "stdout",
     "output_type": "stream",
     "text": [
      "Codon not found in sequence.\n"
     ]
    }
   ],
   "source": [
    "# break-else\n",
    "\n",
    "seq = 'AATGAUTGC'\n",
    "# Define start codon\n",
    "start_codon = 'AUG'\n",
    "\n",
    "# Scan sequence until we hit the start codon\n",
    "for i in range(len(seq)):\n",
    "    if seq[i:i+3] == start_codon:\n",
    "        print('The start codon starts at index', i)\n",
    "        break\n",
    "else: # executed if the for loop finished without a break\n",
    "    print('Codon not found in sequence.')"
   ]
  },
  {
   "cell_type": "code",
   "execution_count": 16,
   "metadata": {},
   "outputs": [
    {
     "name": "stdout",
     "output_type": "stream",
     "text": [
      "3\n",
      "5.666666666666667\n",
      "5.03921568627451\n",
      "5.000152590218967\n",
      "5.000000002328306\n"
     ]
    }
   ],
   "source": [
    "# Square Roots\n",
    "\n",
    "guess = 25.0\n",
    "estimate = 3\n",
    "epsilon = 0.0000001\n",
    "\n",
    "while True:\n",
    "    print(estimate)\n",
    "    y = (estimate + guess/estimate) / 2\n",
    "    if abs(y-estimate) < epsilon:\n",
    "        break\n",
    "    estimate = y"
   ]
  },
  {
   "cell_type": "code",
   "execution_count": 17,
   "metadata": {},
   "outputs": [],
   "source": [
    "# Algorithms"
   ]
  },
  {
   "cell_type": "code",
   "execution_count": 18,
   "metadata": {},
   "outputs": [],
   "source": [
    "# Debugging"
   ]
  },
  {
   "cell_type": "code",
   "execution_count": null,
   "metadata": {},
   "outputs": [],
   "source": []
  }
 ],
 "metadata": {
  "kernelspec": {
   "display_name": "Python 3",
   "language": "python",
   "name": "python3"
  },
  "language_info": {
   "codemirror_mode": {
    "name": "ipython",
    "version": 3
   },
   "file_extension": ".py",
   "mimetype": "text/x-python",
   "name": "python",
   "nbconvert_exporter": "python",
   "pygments_lexer": "ipython3",
   "version": "3.8.2"
  }
 },
 "nbformat": 4,
 "nbformat_minor": 4
}
