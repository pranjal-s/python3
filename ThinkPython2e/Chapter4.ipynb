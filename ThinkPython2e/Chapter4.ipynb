{
 "cells": [
  {
   "cell_type": "code",
   "execution_count": 1,
   "metadata": {},
   "outputs": [],
   "source": [
    "# The turtle Module\n",
    "\n",
    "import turtle"
   ]
  },
  {
   "cell_type": "code",
   "execution_count": 2,
   "metadata": {},
   "outputs": [],
   "source": [
    "bob = turtle.Turtle()\n",
    "\n",
    "# For loop\n",
    "for i in range(4):\n",
    "    bob.fd(100) # move forward\n",
    "    bob.lt(90) # turn left\n",
    "    \n",
    "turtle.home()"
   ]
  },
  {
   "cell_type": "code",
   "execution_count": 3,
   "metadata": {},
   "outputs": [],
   "source": [
    "# Encapsulation of the for loop\n",
    "def square(t,sz):\n",
    "    for i in range(4):\n",
    "        t.fd(sz)\n",
    "        t.lt(90)\n",
    "\n",
    "square(bob,100)\n",
    "\n",
    "alice = turtle.Turtle()\n",
    "square(alice,200)"
   ]
  },
  {
   "cell_type": "code",
   "execution_count": 4,
   "metadata": {},
   "outputs": [],
   "source": [
    "# Generalization\n",
    "\n",
    "def polygon(t, n, length):\n",
    "    angle = 360 / n\n",
    "    for i in range(n):\n",
    "        t.fd(length)\n",
    "        t.lt(angle)\n",
    "\n",
    "# polygon(bob, 7, 70) # this would work but it's better to do ...\n",
    "polygon(bob, n=7, length=70) # i.e. use 'keyword arguments'"
   ]
  },
  {
   "cell_type": "code",
   "execution_count": 5,
   "metadata": {},
   "outputs": [],
   "source": [
    "# Interface Design\n",
    "\n",
    "import math\n",
    "\n",
    "def circle_unclean(t, r):\n",
    "    circumference = 2 * math.pi * r\n",
    "    n = 50\n",
    "    length = circumference / n\n",
    "    polygon(t, n, length)\n",
    "\n",
    "def circle_clean(t, r):\n",
    "    circumference = 2 * math.pi * r\n",
    "    n = int(circumference / 3) + 1\n",
    "    length = circumference / n\n",
    "    polygon(t, n, length)\n",
    "\n",
    "# circle_clean has a cleaner interface because there, \n",
    "# the user doesn't need to understand the implementation details so\n",
    "# he could modify n (reduce for small circles and increase for large)\n",
    "\n",
    "circle_clean(alice,200)"
   ]
  },
  {
   "cell_type": "code",
   "execution_count": null,
   "metadata": {},
   "outputs": [],
   "source": [
    "# Refactoring (READ THE TEXT, THIS IS A GOOD CONCEPT)\n",
    "\n",
    "# We can't use polygon or circle to draw an arc. \n",
    "# So, we step back on our definition of polygon \n",
    "# and instead define polyline as the actual starting point \n",
    "# to derive polygon from\n",
    "\n",
    "def polyline(t, n, length, angle):\n",
    "    for i in range(n):\n",
    "        t.fd(length)\n",
    "        t.lt(angle)\n",
    "\n",
    "# Rewrite polygon\n",
    "def polygon(t, n, length):\n",
    "    angle = 360.0 / n\n",
    "    polyline(t, n, length, angle)\n",
    "\n",
    "# Write arc\n",
    "def arc(t, r, angle):\n",
    "    arc_length = 2 * math.pi * r * angle / 360\n",
    "    n = int(arc_length / 3) + 1\n",
    "    step_length = arc_length / n\n",
    "    step_angle = float(angle) / n\n",
    "    polyline(t, n, step_length, step_angle)\n",
    "\n",
    "# Rewrite circle\n",
    "def circle(t, r):\n",
    "    arc(t, r, 360)\n",
    "\n",
    "# This process—rearranging a program to improve interfaces \n",
    "# and facilitate code reuse—is called refactoring.\n",
    "# In this case, we noticed that there was similar code in arc \n",
    "# and polygon, so we “factored it out” into polyline."
   ]
  },
  {
   "cell_type": "code",
   "execution_count": 6,
   "metadata": {},
   "outputs": [],
   "source": [
    "turtle.done() # lets us close the Python Turtle Graphics window"
   ]
  },
  {
   "cell_type": "code",
   "execution_count": null,
   "metadata": {},
   "outputs": [],
   "source": [
    "# A Development Plan\n",
    "\n",
    "# 1. Write simple code: each functionality in baby steps\n",
    "# 2. Encapsulate coherent pieces into a function with suitable name\n",
    "# 3. Generalize the function by adding parameters\n",
    "# 4. Repeat 1-3 to obtain segmented code\n",
    "# 5. Look for opportunities to refactor similar parts of the code"
   ]
  },
  {
   "cell_type": "code",
   "execution_count": null,
   "metadata": {},
   "outputs": [],
   "source": [
    "# docstring: An important part of interface design\n",
    "\n",
    "def polyline_with_documentation(t, n, length, angle):\n",
    "    \"\"\"Draws n line segments with the given length and\n",
    "    angle (in degrees) between them. t is a turtle.\n",
    "    \"\"\"\n",
    "    for i in range(n):\n",
    "        t.fd(length)\n",
    "        t.lt(angle)"
   ]
  },
  {
   "cell_type": "code",
   "execution_count": null,
   "metadata": {},
   "outputs": [],
   "source": [
    "# Debugging\n",
    "\n",
    "# the contract: the caller agrees to provide certain parameters \n",
    "#               and the function agrees to do certain work\n",
    "# preconditions: polyline requires that t has to be a Turtle etc.\n",
    "# postconditions: the function's responsibilities e.g. draw lines"
   ]
  },
  {
   "cell_type": "code",
   "execution_count": null,
   "metadata": {},
   "outputs": [],
   "source": [
    "#%run -i 'mypolygon.py'\n",
    "#turtle.done()"
   ]
  }
 ],
 "metadata": {
  "kernelspec": {
   "display_name": "Python 3",
   "language": "python",
   "name": "python3"
  },
  "language_info": {
   "codemirror_mode": {
    "name": "ipython",
    "version": 3
   },
   "file_extension": ".py",
   "mimetype": "text/x-python",
   "name": "python",
   "nbconvert_exporter": "python",
   "pygments_lexer": "ipython3",
   "version": "3.8.3"
  }
 },
 "nbformat": 4,
 "nbformat_minor": 4
}
