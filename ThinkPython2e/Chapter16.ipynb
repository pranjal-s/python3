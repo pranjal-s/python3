{
 "cells": [
  {
   "cell_type": "code",
   "execution_count": 7,
   "metadata": {},
   "outputs": [
    {
     "name": "stdout",
     "output_type": "stream",
     "text": [
      "False\n",
      "False\n",
      "True\n",
      "True\n"
     ]
    }
   ],
   "source": [
    "# Time\n",
    "\n",
    "import copy\n",
    "\n",
    "class Time:\n",
    "    \"\"\"Represents the time of day.\n",
    "    \n",
    "    attributes: hour, minute, second\n",
    "    \"\"\"\n",
    "\n",
    "time = Time()\n",
    "time.hour = 11\n",
    "time.minute = 59\n",
    "time.second = 30\n",
    "\n",
    "def is_after(t1,t2):\n",
    "    h = t1.hour == t2.hour\n",
    "    m = t1.minute == t2.minute\n",
    "    s = t1.second == t2.second\n",
    "    if t1.hour > t2.hour:\n",
    "        return True\n",
    "    elif h and t1.minute > t2.minute:\n",
    "        return True\n",
    "    elif h and m and t1.second > t2.second:\n",
    "        return True\n",
    "    elif h and m and s:\n",
    "        return None\n",
    "    else:\n",
    "        return False\n",
    "\n",
    "t1 = Time()\n",
    "t1.hour = 11\n",
    "t1.minute = 59\n",
    "t1.second = 30\n",
    "t2 = copy.copy(t1)\n",
    "t2.hour = 10\n",
    "t2.minute = 59\n",
    "t2.second = 30\n",
    "\n",
    "print(t1 is t2)\n",
    "print(t1.hour is t2.hour)\n",
    "print(t1.minute is t2.minute)\n",
    "\n",
    "print(is_after(t1,t2))"
   ]
  },
  {
   "cell_type": "code",
   "execution_count": null,
   "metadata": {},
   "outputs": [],
   "source": [
    "# Pure Functions\n",
    "# Does not modify any of the objects passed to it as arguments \n",
    "# and it has no effect, like displaying a value or getting user input,\n",
    "# other than returning a value.\n",
    "\n",
    "def add_time(t1, t2):\n",
    "    sum = Time()\n",
    "    sum.hour = t1.hour + t2.hour\n",
    "    sum.minute = t1.minute + t2.minute\n",
    "    sum.second = t1.second + t2.second\n",
    "    return sum\n",
    "\n"
   ]
  },
  {
   "cell_type": "code",
   "execution_count": 8,
   "metadata": {},
   "outputs": [],
   "source": [
    "# Modifiers\n",
    "\n",
    "def increment_prototype(time, seconds):\n",
    "    time.second += seconds\n",
    "\n",
    "def increment_patch1(time, seconds):\n",
    "    time.second += seconds\n",
    "    \n",
    "    if time.second >= 60:\n",
    "        time.second -= 60\n",
    "        time.minute += 1\n",
    "    \n",
    "    if time.minute >= 60:\n",
    "        time.minute -= 60\n",
    "        time.hour += 1\n",
    "\n",
    "def increment_patch2(time, seconds):\n",
    "    [minutes,s]=divmod(seconds,60)\n",
    "    [h,m]=divmod(minutes,60)\n",
    "    \n",
    "    time.hour += h\n",
    "    time.minute += m\n",
    "    time.second += s"
   ]
  },
  {
   "cell_type": "code",
   "execution_count": 9,
   "metadata": {},
   "outputs": [],
   "source": [
    "# Prototyping versus Planning\n",
    "\n",
    "# Previously, we created a prototype and later patched it repeatedly\n",
    "# However, we could have begin by deeper knowledge of the problem\n",
    "# i.e. that both minutes and seconds are in base 60\n",
    "\n",
    "# So, here are functions doing the base conversions\n",
    "def time_to_int(time):\n",
    "    minutes = time.hour * 60 + time.minute\n",
    "    seconds = minutes * 60 + time.second\n",
    "    return seconds\n",
    "\n",
    "def int_to_time(seconds):\n",
    "    time = Time()\n",
    "    minutes, time.second = divmod(seconds, 60)\n",
    "    time.hour, time.minute = divmod(minutes, 60)\n",
    "    return time\n",
    "\n",
    "# And here is the increment function which infact can work with\n",
    "# even giving all of hours, minutes and seconds\n",
    "\n",
    "def increment_planned(t1, t2):\n",
    "    seconds = time_to_int(t1) + time_to_int(t2)\n",
    "    return int_to_time(seconds)"
   ]
  },
  {
   "cell_type": "code",
   "execution_count": 20,
   "metadata": {},
   "outputs": [],
   "source": [
    "# Debugging\n",
    "\n",
    "# It can be a good idea to separately define 'invariants' \n",
    "# for semantic error-checking\n",
    "\n",
    "def valid_time(time):\n",
    "    if time.hour < 0 or time.minute < 0 or time.second < 0:\n",
    "        return False\n",
    "    if time.minute >= 60 or time.second >= 60:\n",
    "        return False\n",
    "    return True\n",
    "\n",
    "# then,\n",
    "\n",
    "def increment_well_planned(t1, t2):\n",
    "    if not valid_time(t1) or not valid_time(t2):\n",
    "        raise ValueError('invalid Time object in add_time')\n",
    "    seconds = time_to_int(t1) + time_to_int(t2)\n",
    "    return int_to_time(seconds)"
   ]
  },
  {
   "cell_type": "code",
   "execution_count": null,
   "metadata": {},
   "outputs": [],
   "source": []
  }
 ],
 "metadata": {
  "kernelspec": {
   "display_name": "Python 3",
   "language": "python",
   "name": "python3"
  },
  "language_info": {
   "codemirror_mode": {
    "name": "ipython",
    "version": 3
   },
   "file_extension": ".py",
   "mimetype": "text/x-python",
   "name": "python",
   "nbconvert_exporter": "python",
   "pygments_lexer": "ipython3",
   "version": "3.8.3"
  }
 },
 "nbformat": 4,
 "nbformat_minor": 4
}
