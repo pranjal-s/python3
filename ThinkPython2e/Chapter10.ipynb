{
 "cells": [
  {
   "cell_type": "code",
   "execution_count": null,
   "metadata": {},
   "outputs": [],
   "source": [
    "# A List Is a Sequence\n",
    "\n",
    "cheeses = ['Cheddar', 'Edam', 'Gouda']\n",
    "numbers = [42, 123, [31, 22]] # nested: no problem in printing\n",
    "empty = []\n",
    "\n",
    "print(cheeses, numbers, empty)\n",
    "print(numbers[2])\n",
    "print(numbers[2][0])\n",
    "print(numbers[2][1])"
   ]
  },
  {
   "cell_type": "code",
   "execution_count": null,
   "metadata": {},
   "outputs": [],
   "source": [
    "# Lists Are Mutable\n",
    "\n",
    "numbers[1] = 5\n",
    "print(numbers)\n",
    "\n",
    "print('Edam' in cheeses)\n",
    "print('Brie' in cheeses)"
   ]
  },
  {
   "cell_type": "code",
   "execution_count": null,
   "metadata": {},
   "outputs": [],
   "source": [
    "# Traversing a List\n",
    "\n",
    "for i in range(len(numbers)):\n",
    "    numbers[i] = numbers[i] * 2 # nested: problem in operating\n",
    "\n",
    "print(numbers)\n",
    "\n",
    "for i in range(len(numbers)):\n",
    "    if not isinstance(numbers[i], int): # alternative\n",
    "        numbers[i][0] = numbers[i][0] * 2\n",
    "        numbers[i][1] = numbers[i][1] * 2\n",
    "        numbers[i][2] = numbers[i][2] * 2\n",
    "        numbers[i][3] = numbers[i][3] * 2\n",
    "    else:\n",
    "        numbers[i] = numbers[i] * 2\n",
    "\n",
    "print(numbers)\n",
    "\n",
    "# A more general alternative\n",
    "for i in range(len(numbers)):\n",
    "    if not isinstance(numbers[i], int): # alternative\n",
    "        numbers[i] = [element * 2 for element in numbers[i]]\n",
    "    else:\n",
    "        numbers[i] = numbers[i] * 2\n",
    "\n",
    "print(numbers)\n",
    "\n",
    "for x in []:\n",
    "    print('This never happens.')"
   ]
  },
  {
   "cell_type": "code",
   "execution_count": 7,
   "metadata": {},
   "outputs": [
    {
     "name": "stdout",
     "output_type": "stream",
     "text": [
      "[1, 2, 1, 2]\n",
      "[1, 2, 1, 2]\n",
      "[2, 4]\n",
      "[2, 4]\n",
      "[2, 4]\n",
      "[2, 4]\n"
     ]
    }
   ],
   "source": [
    "# List Operations (Default and Modified)\n",
    "\n",
    "list1 = [1, 2]\n",
    "list2 = [1, 2]\n",
    "list3 = [list1, list2]\n",
    "\n",
    "print(list1+list2)\n",
    "print(list1*2)\n",
    "\n",
    "print([list1[i]+list2[i] for i in range(len(list1))])\n",
    "print([x + y for x, y in zip(list1, list2)])\n",
    "print([sum(x) for x in zip(*list3)])\n",
    "print([element * 2 for element in list1])"
   ]
  },
  {
   "cell_type": "code",
   "execution_count": null,
   "metadata": {},
   "outputs": [],
   "source": [
    "# List Slices\n",
    "\n",
    "t = ['a', 'b', 'c', 'd', 'e', 'f']\n",
    "t[1:3] = ['x', 'y']\n",
    "print(t)"
   ]
  },
  {
   "cell_type": "code",
   "execution_count": null,
   "metadata": {},
   "outputs": [],
   "source": [
    "# List Methods\n",
    "\n",
    "t1 = ['a', 'b']\n",
    "t1.append('c')\n",
    "t2 = ['d', 'e']\n",
    "t1.extend(t2)\n",
    "print(t1)\n",
    "\n",
    "import random\n",
    "random.shuffle(t1)\n",
    "print(t1)\n",
    "\n",
    "t1.sort()\n",
    "print(t1)"
   ]
  },
  {
   "cell_type": "code",
   "execution_count": null,
   "metadata": {},
   "outputs": [],
   "source": [
    "# Map, Filter and Reduce\n",
    "\n",
    "t = [1, 2, 3]\n",
    "reduced_t = sum(t) # sum 'reduces' the list t\n",
    "print(reduced_t)\n",
    "\n",
    "\n",
    "def capitalize_all(t): # 'maps' capitalization onto list t\n",
    "    res = []\n",
    "    for s in t:\n",
    "        res.append(s.capitalize())\n",
    "    return res\n",
    "\n",
    "def only_upper(t): # 'filters' out lower elements\n",
    "    res = []\n",
    "    for s in t:\n",
    "        if s.isupper():\n",
    "            res.append(s)\n",
    "    return res"
   ]
  },
  {
   "cell_type": "code",
   "execution_count": null,
   "metadata": {},
   "outputs": [],
   "source": [
    "# Deleting Elements\n",
    "\n",
    "t = ['a', 'b', 'c', 'b', 'e', 'f']\n",
    "x = t.pop(1)\n",
    "print(t, x)\n",
    "\n",
    "t = ['a', 'b', 'c', 'b', 'e', 'f']\n",
    "del t[1]\n",
    "print(t)\n",
    "\n",
    "t = ['a', 'b', 'c', 'b', 'e', 'f']\n",
    "t.remove('b')\n",
    "print(t)\n",
    "\n",
    "t = ['a', 'b', 'c', 'b', 'e', 'f']\n",
    "t = list(filter(('b').__ne__, t)) # remove all occurences\n",
    "print(t)\n",
    "\n",
    "t = ['a', 'b', 'c', 'b', 'e', 'f']\n",
    "del t[1:4]\n",
    "print(t)"
   ]
  },
  {
   "cell_type": "code",
   "execution_count": null,
   "metadata": {},
   "outputs": [],
   "source": [
    "# Lists and Strings\n",
    "\n",
    "s = 'spam'\n",
    "t = list(s)\n",
    "print(t)\n",
    "\n",
    "s = 'pining for the fjords'\n",
    "t = s.split()\n",
    "print(t)\n",
    "\n",
    "s = 'spam-spam-spam'\n",
    "miter = '-'\n",
    "s.split(delimiter)\n",
    "print(s)\n",
    "\n",
    "t = ['pining', 'for', 'the', 'fjords']\n",
    "delimiter = ' '\n",
    "s = delimiter.join(t)\n",
    "print(s)"
   ]
  },
  {
   "cell_type": "code",
   "execution_count": 22,
   "metadata": {},
   "outputs": [
    {
     "name": "stdout",
     "output_type": "stream",
     "text": [
      "False True\n",
      "True True\n",
      "False True\n",
      "True True\n",
      "False True\n",
      "False True\n",
      "False True\n"
     ]
    }
   ],
   "source": [
    "# Objects and Values\n",
    "\n",
    "a = -23\n",
    "b = -23\n",
    "print(a is b, a == b) # equivalent\n",
    "\n",
    "a = 31\n",
    "b = 31\n",
    "print(a is b, a == b) # INCORRECTLY identical\n",
    "\n",
    "a = 1.324\n",
    "b = 1.324\n",
    "print(a is b, a == b) # equivalent\n",
    "\n",
    "a = 'banana1_'\n",
    "b = 'banana1_'\n",
    "print(a is b, a == b) # identical, STRINGS are always single objects\n",
    "\n",
    "a = ['banana1_']\n",
    "b = ['banana1_']\n",
    "print(a is b, a == b) # equivalent\n",
    "\n",
    "a = [1]\n",
    "b = [1]\n",
    "print(a is b, a == b) # equivalent\n",
    "\n",
    "a = [1, 2]\n",
    "b = [1, 2]\n",
    "print(a is b, a == b) # equivalent"
   ]
  },
  {
   "cell_type": "code",
   "execution_count": 9,
   "metadata": {},
   "outputs": [
    {
     "name": "stdout",
     "output_type": "stream",
     "text": [
      "True True\n"
     ]
    }
   ],
   "source": [
    "# Aliasing\n",
    "\n",
    "a = -23\n",
    "b = a\n",
    "print(a is b, a == b) # identical"
   ]
  },
  {
   "cell_type": "code",
   "execution_count": 14,
   "metadata": {},
   "outputs": [
    {
     "name": "stdout",
     "output_type": "stream",
     "text": [
      "[2, 3]\n",
      "[1, 2, 3]\n",
      "[2, 3]\n"
     ]
    }
   ],
   "source": [
    "# List Arguments (Like C++, lists are passed by reference)\n",
    "#                (BUT, THERE IS A CATCH)\n",
    "\n",
    "def delete_head(t):\n",
    "    del t[0]\n",
    "\n",
    "t4 = [1, 2, 3]\n",
    "delete_head(t4)\n",
    "print(t4)\n",
    "    \n",
    "def bad_delete_head(t):\n",
    "    t = t[1:] # WRONG! The slice operator creates a new list \n",
    "              # and the assignment makes 't' refer to it, \n",
    "              # but that doesn’t affect the caller 't4'.\n",
    "            \n",
    "t4 = [1, 2, 3]\n",
    "bad_delete_head(t4)\n",
    "print(t4)\n",
    "\n",
    "# But this doesn't mean we can't do it using slicing ...\n",
    "\n",
    "def good_delete_head(t):\n",
    "    return t[1:] #RIGHT! Creates and returns the new list...\n",
    "\n",
    "\n",
    "t4 = [1, 2, 3]\n",
    "t4 = good_delete_head(t4) # ... but it is not really an operator now\n",
    "print(t4)"
   ]
  },
  {
   "cell_type": "code",
   "execution_count": 8,
   "metadata": {},
   "outputs": [
    {
     "name": "stdout",
     "output_type": "stream",
     "text": [
      "True True\n",
      "31\n",
      "\n",
      "True True\n",
      "[31, 0]\n",
      "\n",
      "True True\n",
      "[3, 0]\n",
      "[4, 0]\n",
      "\n",
      "True False\n",
      "[31, 0]\n",
      "[3, 0]\n",
      "\n",
      "True False\n",
      "[31, 0]\n",
      "[3, 0]\n",
      "True False\n",
      "[31, 0]\n",
      "[3, 0]\n"
     ]
    }
   ],
   "source": [
    "# Debugging\n",
    "\n",
    "a = 31\n",
    "b = a\n",
    "print(a==b,a is b)\n",
    "a = 3\n",
    "print(b)\n",
    "\n",
    "print()\n",
    "\n",
    "a = [31, 0]\n",
    "b = a\n",
    "print(a==b,a is b)\n",
    "a = [3, 0] # the = operator modifies a's pointer but \n",
    "print(b)\n",
    "\n",
    "print()\n",
    "\n",
    "a = [31, 0]\n",
    "b = a\n",
    "print(a==b,a is b)\n",
    "a[0] = 3\n",
    "print(b)\n",
    "b[0] = 4\n",
    "print(a)\n",
    "\n",
    "print()\n",
    "\n",
    "a = [31, 0]\n",
    "b = a[:] # a[:] creates a new copy of a in memory\n",
    "         # and = assigns b to that copy\n",
    "print(a==b,a is b)\n",
    "a[0] = 3\n",
    "print(b)\n",
    "b[0] = 4\n",
    "print(a)\n",
    "\n",
    "print()\n",
    "\n",
    "from copy import copy # Shallow Copy\n",
    "from copy import deepcopy # Deep Copy\n",
    "\n",
    "a = [31, 0]\n",
    "b = copy(a)\n",
    "print(a==b,a is b)\n",
    "a[0] = 3\n",
    "print(b)\n",
    "b[0] = 4\n",
    "print(a)\n",
    "\n",
    "a = [31, 0]\n",
    "b = deepcopy(a)\n",
    "print(a==b,a is b)\n",
    "a[0] = 3\n",
    "print(b)\n",
    "b[0] = 4\n",
    "print(a)"
   ]
  },
  {
   "cell_type": "code",
   "execution_count": null,
   "metadata": {},
   "outputs": [],
   "source": []
  }
 ],
 "metadata": {
  "kernelspec": {
   "display_name": "Python 3",
   "language": "python",
   "name": "python3"
  },
  "language_info": {
   "codemirror_mode": {
    "name": "ipython",
    "version": 3
   },
   "file_extension": ".py",
   "mimetype": "text/x-python",
   "name": "python",
   "nbconvert_exporter": "python",
   "pygments_lexer": "ipython3",
   "version": "3.8.3"
  }
 },
 "nbformat": 4,
 "nbformat_minor": 4
}
