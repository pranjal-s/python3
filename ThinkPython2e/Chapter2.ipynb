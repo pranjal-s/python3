{
 "cells": [
  {
   "cell_type": "code",
   "execution_count": 3,
   "metadata": {},
   "outputs": [
    {
     "name": "stdout",
     "output_type": "stream",
     "text": [
      "And now for something completely different\n",
      "19\n",
      "1.5707963267948966\n"
     ]
    }
   ],
   "source": [
    "# Assignment Statements\n",
    "\n",
    "message = 'And now for something completely different'\n",
    "n = 17\n",
    "pi = 3.141592653589793\n",
    "\n",
    "print(message)\n",
    "print(n^2)\n",
    "print(pi/2)"
   ]
  },
  {
   "cell_type": "code",
   "execution_count": 9,
   "metadata": {},
   "outputs": [
    {
     "ename": "SyntaxError",
     "evalue": "invalid decimal literal (<ipython-input-9-31016baf0ba5>, line 6)",
     "output_type": "error",
     "traceback": [
      "\u001b[0;36m  File \u001b[0;32m\"<ipython-input-9-31016baf0ba5>\"\u001b[0;36m, line \u001b[0;32m6\u001b[0m\n\u001b[0;31m    2_messageroot = 'Error, can\\'t begin with a number'\u001b[0m\n\u001b[0m     ^\u001b[0m\n\u001b[0;31mSyntaxError\u001b[0m\u001b[0;31m:\u001b[0m invalid decimal literal\n"
     ]
    }
   ],
   "source": [
    "# Variable Names\n",
    "\n",
    "# Prefer lowercase, can use underscore and numbers\n",
    "message_root2 = 'Best practice'\n",
    "_messageroot2 = 'Can begin with underscore.'\n",
    "2_messageroot = 'Error, can\\'t begin with a number'"
   ]
  },
  {
   "cell_type": "code",
   "execution_count": 10,
   "metadata": {},
   "outputs": [
    {
     "name": "stdout",
     "output_type": "stream",
     "text": [
      "42\n",
      "40\n"
     ]
    }
   ],
   "source": [
    "# Expressions and Statements\n",
    "\n",
    "print(n+25) # n+25 is an expression and has a value\n",
    "n=15 # this is a statement and has no value\n",
    "print(n+25)  # this (taken all together) is a statement"
   ]
  },
  {
   "cell_type": "code",
   "execution_count": 12,
   "metadata": {},
   "outputs": [
    {
     "name": "stdout",
     "output_type": "stream",
     "text": [
      "Hello, Script Mode!\n"
     ]
    }
   ],
   "source": [
    "# Script Mode\n",
    "\n",
    "%run -i 'scriptmode.py' # Using built-in magic command"
   ]
  },
  {
   "cell_type": "code",
   "execution_count": 13,
   "metadata": {},
   "outputs": [],
   "source": [
    "# Order of Operations\n",
    "\n",
    "# PEMDAS: \n",
    "# Parentheses\n",
    "# Exponentiation\n",
    "# Multiplication, Division \n",
    "# Addition, Subtraction"
   ]
  },
  {
   "cell_type": "code",
   "execution_count": 15,
   "metadata": {},
   "outputs": [
    {
     "name": "stdout",
     "output_type": "stream",
     "text": [
      "throatwarbler\n",
      "throatthroatthroat\n"
     ]
    }
   ],
   "source": [
    "# String Operations\n",
    "\n",
    "first = 'throat'\n",
    "second = 'warbler'\n",
    "print(first + second)\n",
    "print(first*3)"
   ]
  },
  {
   "cell_type": "code",
   "execution_count": 16,
   "metadata": {},
   "outputs": [],
   "source": [
    "# Comments\n",
    "\n",
    "# Bad\n",
    "v = 5 # assign 5 to v\n",
    "# Good\n",
    "v = 5 # velocity in meters/second"
   ]
  },
  {
   "cell_type": "code",
   "execution_count": 17,
   "metadata": {},
   "outputs": [
    {
     "ename": "SyntaxError",
     "evalue": "unmatched ')' (<ipython-input-17-f65afb881314>, line 4)",
     "output_type": "error",
     "traceback": [
      "\u001b[0;36m  File \u001b[0;32m\"<ipython-input-17-f65afb881314>\"\u001b[0;36m, line \u001b[0;32m4\u001b[0m\n\u001b[0;31m    8)\u001b[0m\n\u001b[0m     ^\u001b[0m\n\u001b[0;31mSyntaxError\u001b[0m\u001b[0;31m:\u001b[0m unmatched ')'\n"
     ]
    }
   ],
   "source": [
    "# Debuging\n",
    "\n",
    "# Syntax error\n",
    "8)\n",
    "\n",
    "# Runtime error ( also called exceptions because they usually \n",
    "# indicate that something exceptional (and bad) has happened.)\n",
    "# Rare in simple code\n",
    "\n",
    "# Semantic error\n",
    "u0 = 3 # x displacement\n",
    "initial_speed = u0 # well, u0 denotes displacement\n",
    "                   # not speed as in (u, v, w) \n"
   ]
  },
  {
   "cell_type": "code",
   "execution_count": null,
   "metadata": {},
   "outputs": [],
   "source": []
  }
 ],
 "metadata": {
  "kernelspec": {
   "display_name": "Python 3",
   "language": "python",
   "name": "python3"
  },
  "language_info": {
   "codemirror_mode": {
    "name": "ipython",
    "version": 3
   },
   "file_extension": ".py",
   "mimetype": "text/x-python",
   "name": "python",
   "nbconvert_exporter": "python",
   "pygments_lexer": "ipython3",
   "version": "3.8.3"
  }
 },
 "nbformat": 4,
 "nbformat_minor": 4
}
