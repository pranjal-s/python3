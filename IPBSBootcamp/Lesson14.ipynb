{
 "cells": [
  {
   "cell_type": "markdown",
   "metadata": {},
   "source": [
    "### Lesson 14: Testing and test-driven development\n",
    "# PyTest"
   ]
  },
  {
   "cell_type": "code",
   "execution_count": 2,
   "metadata": {},
   "outputs": [
    {
     "name": "stdout",
     "output_type": "stream",
     "text": [
      "\u001b[1m============================= test session starts ==============================\u001b[0m\n",
      "platform linux -- Python 3.8.2, pytest-5.4.3, py-1.9.0, pluggy-0.13.1\n",
      "rootdir: /media/pranjal/storage/office/PSU/1 Courses/Programming/Python/python3/IPBSBootcamp\n",
      "collected 1 item                                                               \u001b[0m\n",
      "\n",
      "seq_features_and_tests.py \u001b[32m.\u001b[0m\u001b[32m                                              [100%]\u001b[0m\n",
      "\n",
      "\u001b[32m============================== \u001b[32m\u001b[1m1 passed\u001b[0m\u001b[32m in 0.05s\u001b[0m\u001b[32m ===============================\u001b[0m\n"
     ]
    }
   ],
   "source": [
    "# Using pytest\n",
    "\n",
    "!pytest seq_features_and_tests.py"
   ]
  },
  {
   "cell_type": "code",
   "execution_count": 3,
   "metadata": {},
   "outputs": [
    {
     "name": "stdout",
     "output_type": "stream",
     "text": [
      "\u001b[1m============================= test session starts ==============================\u001b[0m\n",
      "platform linux -- Python 3.8.2, pytest-5.4.3, py-1.9.0, pluggy-0.13.1 -- /home/pranjal/anaconda3/bin/python\n",
      "cachedir: .pytest_cache\n",
      "rootdir: /media/pranjal/storage/office/PSU/1 Courses/Programming/Python/python3/IPBSBootcamp\n",
      "collected 1 item                                                               \u001b[0m\n",
      "\n",
      "seq_features_and_tests.py::test_number_negatives \u001b[32mPASSED\u001b[0m\u001b[32m                  [100%]\u001b[0m\n",
      "\n",
      "\u001b[32m============================== \u001b[32m\u001b[1m1 passed\u001b[0m\u001b[32m in 0.01s\u001b[0m\u001b[32m ===============================\u001b[0m\n"
     ]
    }
   ],
   "source": [
    "!pytest -v seq_features_and_tests.py"
   ]
  },
  {
   "cell_type": "code",
   "execution_count": 5,
   "metadata": {},
   "outputs": [
    {
     "name": "stdout",
     "output_type": "stream",
     "text": [
      "\u001b[1m============================= test session starts ==============================\u001b[0m\n",
      "platform linux -- Python 3.8.2, pytest-5.4.3, py-1.9.0, pluggy-0.13.1\n",
      "rootdir: /media/pranjal/storage/office/PSU/1 Courses/Programming/Python/python3/IPBSBootcamp\n",
      "collected 4 items                                                              \u001b[0m\n",
      "\n",
      "seq_features_and_tests_stepwise.py \u001b[32m.\u001b[0m\u001b[32m.\u001b[0m\u001b[32m.\u001b[0m\u001b[32m.\u001b[0m\u001b[32m                                  [100%]\u001b[0m\n",
      "\n",
      "\u001b[32m============================== \u001b[32m\u001b[1m4 passed\u001b[0m\u001b[32m in 0.02s\u001b[0m\u001b[32m ===============================\u001b[0m\n"
     ]
    }
   ],
   "source": [
    "# Separating tests in functional units\n",
    "\n",
    "!pytest seq_features_and_tests_stepwise.py"
   ]
  },
  {
   "cell_type": "code",
   "execution_count": 7,
   "metadata": {},
   "outputs": [
    {
     "name": "stdout",
     "output_type": "stream",
     "text": [
      "\u001b[1m============================= test session starts ==============================\u001b[0m\n",
      "platform linux -- Python 3.8.2, pytest-5.4.3, py-1.9.0, pluggy-0.13.1 -- /home/pranjal/anaconda3/bin/python\n",
      "cachedir: .pytest_cache\n",
      "rootdir: /media/pranjal/storage/office/PSU/1 Courses/Programming/Python/python3/IPBSBootcamp\n",
      "collected 4 items                                                              \u001b[0m\n",
      "\n",
      "seq_features_and_tests_stepwise.py::test_number_negatives_for_single_AA \u001b[32mPASSED\u001b[0m\u001b[32m [ 25%]\u001b[0m\n",
      "seq_features_and_tests_stepwise.py::test_number_negatives_for_empty \u001b[32mPASSED\u001b[0m\u001b[32m [ 50%]\u001b[0m\n",
      "seq_features_and_tests_stepwise.py::test_number_negatives_for_short_sequence \u001b[32mPASSED\u001b[0m\u001b[32m [ 75%]\u001b[0m\n",
      "seq_features_and_tests_stepwise.py::test_number_negatives_for_lowercase \u001b[32mPASSED\u001b[0m\u001b[32m [100%]\u001b[0m\n",
      "\n",
      "\u001b[32m============================== \u001b[32m\u001b[1m4 passed\u001b[0m\u001b[32m in 0.02s\u001b[0m\u001b[32m ===============================\u001b[0m\n"
     ]
    }
   ],
   "source": [
    "!pytest -v seq_features_and_tests_stepwise.py"
   ]
  },
  {
   "cell_type": "code",
   "execution_count": 9,
   "metadata": {},
   "outputs": [
    {
     "name": "stdout",
     "output_type": "stream",
     "text": [
      "\u001b[1m============================= test session starts ==============================\u001b[0m\n",
      "platform linux -- Python 3.8.2, pytest-5.4.3, py-1.9.0, pluggy-0.13.1 -- /home/pranjal/anaconda3/bin/python\n",
      "cachedir: .pytest_cache\n",
      "rootdir: /media/pranjal/storage/office/PSU/1 Courses/Programming/Python/python3/IPBSBootcamp\n",
      "collected 4 items                                                              \u001b[0m\u001b[1m\n",
      "\n",
      "test_seq_features.py::test_number_negatives_single_E_or_D \u001b[32mPASSED\u001b[0m\u001b[32m         [ 25%]\u001b[0m\n",
      "test_seq_features.py::test_number_negatives_for_empty \u001b[32mPASSED\u001b[0m\u001b[32m             [ 50%]\u001b[0m\n",
      "test_seq_features.py::test_number_negatives_for_short_sequences \u001b[32mPASSED\u001b[0m\u001b[32m   [ 75%]\u001b[0m\n",
      "test_seq_features.py::test_number_negatives_for_lowercase \u001b[32mPASSED\u001b[0m\u001b[32m         [100%]\u001b[0m\n",
      "\n",
      "\u001b[32m============================== \u001b[32m\u001b[1m4 passed\u001b[0m\u001b[32m in 0.55s\u001b[0m\u001b[32m ===============================\u001b[0m\n"
     ]
    }
   ],
   "source": [
    "# It is also a good idea, for the sake of clarity, \n",
    "# to keep the tests in separate files from the code. \n",
    "\n",
    "!pytest -v"
   ]
  },
  {
   "cell_type": "code",
   "execution_count": 10,
   "metadata": {},
   "outputs": [
    {
     "name": "stdout",
     "output_type": "stream",
     "text": [
      "CPython 3.8.2\n",
      "IPython 7.16.1\n",
      "\n",
      "jupyterlab 2.1.5\n"
     ]
    }
   ],
   "source": [
    "# Computing environment\n",
    "\n",
    "%load_ext watermark\n",
    "%watermark -v -p jupyterlab"
   ]
  },
  {
   "cell_type": "code",
   "execution_count": null,
   "metadata": {},
   "outputs": [],
   "source": []
  }
 ],
 "metadata": {
  "kernelspec": {
   "display_name": "Python 3",
   "language": "python",
   "name": "python3"
  },
  "language_info": {
   "codemirror_mode": {
    "name": "ipython",
    "version": 3
   },
   "file_extension": ".py",
   "mimetype": "text/x-python",
   "name": "python",
   "nbconvert_exporter": "python",
   "pygments_lexer": "ipython3",
   "version": "3.8.2"
  }
 },
 "nbformat": 4,
 "nbformat_minor": 4
}
