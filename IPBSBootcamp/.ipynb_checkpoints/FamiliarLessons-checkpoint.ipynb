{
 "cells": [
  {
   "cell_type": "code",
   "execution_count": 1,
   "metadata": {},
   "outputs": [],
   "source": [
    "# These lessons covered basics of Python 3 \n",
    "# Lesson 3: Variables, operators, and types\n",
    "# Lesson 4: More operators and conditionals\n",
    "# Lesson 5: Lists and tuples\n",
    "# Lesson 6: Iteration\n",
    "# Lesson 7: Introduction to functions\n",
    "# Lesson 8: String methods\n",
    "# Lesson 9: Dictionaries\n",
    "# Lesson 10: Package management # See http://justinbois.github.io/bootcamp/2020/lessons/l10_packages_and_modules.html for full details.\n",
    "# Lesson 12: Version control with Git\n",
    "# Lesson 13: Errors and Exception handling"
   ]
  },
  {
   "cell_type": "code",
   "execution_count": 2,
   "metadata": {},
   "outputs": [
    {
     "name": "stdout",
     "output_type": "stream",
     "text": [
      "CPython 3.8.2\n",
      "IPython 7.16.1\n",
      "\n",
      "jupyterlab 2.1.5\n"
     ]
    }
   ],
   "source": [
    "# Computing environment\n",
    "\n",
    "%load_ext watermark\n",
    "%watermark -v -p jupyterlab"
   ]
  },
  {
   "cell_type": "code",
   "execution_count": null,
   "metadata": {},
   "outputs": [],
   "source": []
  }
 ],
 "metadata": {
  "kernelspec": {
   "display_name": "Python 3",
   "language": "python",
   "name": "python3"
  },
  "language_info": {
   "codemirror_mode": {
    "name": "ipython",
    "version": 3
   },
   "file_extension": ".py",
   "mimetype": "text/x-python",
   "name": "python",
   "nbconvert_exporter": "python",
   "pygments_lexer": "ipython3",
   "version": "3.8.2"
  }
 },
 "nbformat": 4,
 "nbformat_minor": 4
}
