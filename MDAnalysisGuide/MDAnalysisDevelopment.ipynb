{
 "cells": [
  {
   "cell_type": "markdown",
   "metadata": {},
   "source": [
    "# Contributing to the main database\n",
    "\n",
    "It is already well covered at: https://userguide.mdanalysis.org/1.0.0/contributing_code.html.\n",
    "\n",
    "Some pesronal notes below:\n",
    "\n",
    "## Branches in MDAnalysis\n",
    "\n",
    "There are two important branches in MDAnalysis:\\\n",
    "**master**: for production-ready code\\\n",
    "**develop**: for development code\n",
    "\n",
    "These are similar to LAMMPS development:\\\n",
    "**stable**: for production-ready code\\\n",
    "**master**: for development code\n",
    "\n",
    "It is just that LAMMPS introduced stable for stable releases for 'use'.\n",
    "And MDAnalysis kept GitHub's idea that master is the one for 'use', and introduced develop for development."
   ]
  },
  {
   "cell_type": "markdown",
   "metadata": {},
   "source": [
    "```bash\n",
    "conda activate mdanalysis-dev\n",
    "conda install -c conda-forge nodejs\n",
    "conda install -c conda-forge nglview\n",
    "pip install jupyter\n",
    "jupyter nbextension install nglview --py --sys-prefix\n",
    "jupyter nbextension enable nglview --py --sys-prefix\n",
    "jupyter labextension install @jupyter-widgets/jupyterlab-manager --no-build\n",
    "jupyter labextension install nglview-js-widgets\n",
    "jupyter labextension install @jupyterlab/toc\n",
    "```\n",
    "\n",
    "\n",
    "```bash\n",
    "pip install ipython\n",
    "cd '/home/pranjal/anaconda3/envs/mdanalysis-dev/lib/python3.7/site-packages/ipython-7.17.0.dist-info/'\n",
    "cp metadata.json METADATA\n",
    "```"
   ]
  },
  {
   "cell_type": "code",
   "execution_count": null,
   "metadata": {},
   "outputs": [],
   "source": []
  }
 ],
 "metadata": {
  "kernelspec": {
   "display_name": "Python 3",
   "language": "python",
   "name": "python3"
  },
  "language_info": {
   "codemirror_mode": {
    "name": "ipython",
    "version": 3
   },
   "file_extension": ".py",
   "mimetype": "text/x-python",
   "name": "python",
   "nbconvert_exporter": "python",
   "pygments_lexer": "ipython3",
   "version": "3.7.7"
  }
 },
 "nbformat": 4,
 "nbformat_minor": 4
}
