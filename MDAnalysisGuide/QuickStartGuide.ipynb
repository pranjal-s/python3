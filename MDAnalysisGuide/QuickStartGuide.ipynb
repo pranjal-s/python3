{
 "cells": [
  {
   "cell_type": "markdown",
   "metadata": {},
   "source": [
    "# https://userguide.mdanalysis.org/1.0.0/examples/quickstart.html"
   ]
  },
  {
   "cell_type": "code",
   "execution_count": 32,
   "metadata": {},
   "outputs": [
    {
     "name": "stdout",
     "output_type": "stream",
     "text": [
      "<Universe with 3341 atoms>\n",
      "0.20.1\n"
     ]
    }
   ],
   "source": [
    "# VErify installation\n",
    "\n",
    "import MDAnalysis as mda\n",
    "from MDAnalysis.tests.datafiles import PSF, DCD, GRO, XTC\n",
    "\n",
    "print(mda.Universe(PSF, DCD))\n",
    "print(mda.__version__)"
   ]
  },
  {
   "cell_type": "code",
   "execution_count": 33,
   "metadata": {},
   "outputs": [
    {
     "name": "stdout",
     "output_type": "stream",
     "text": [
      "<Universe with 3341 atoms>\n",
      "False\n"
     ]
    }
   ],
   "source": [
    "# Load file with only structure (no coordinates and timeseries) PSF\n",
    "\n",
    "psf = mda.Universe(PSF)\n",
    "print(psf)\n",
    "print(hasattr(psf, 'trajectory'))\n",
    "\n",
    "# Could also do this with your own pdb file:\n",
    "#structure_only = mda.Universe(\"my_pdb_file.pdb\")"
   ]
  },
  {
   "cell_type": "code",
   "execution_count": 34,
   "metadata": {},
   "outputs": [
    {
     "name": "stdout",
     "output_type": "stream",
     "text": [
      "<Universe with 47681 atoms>\n",
      "1\n"
     ]
    }
   ],
   "source": [
    "# Single frame data GRO\n",
    "\n",
    "gro = mda.Universe(GRO)\n",
    "print(gro)\n",
    "print(len(gro.trajectory))"
   ]
  },
  {
   "cell_type": "code",
   "execution_count": 35,
   "metadata": {},
   "outputs": [
    {
     "name": "stdout",
     "output_type": "stream",
     "text": [
      "<Universe with 3341 atoms>\n",
      "98\n"
     ]
    }
   ],
   "source": [
    "# This is a simulation where the enzyme adenylate kinase samples a transition from \n",
    "# a closed to an open conformation (Beckstein et al., 2009).\n",
    "# It will be used for rest of tutorial.\n",
    "\n",
    "u = mda.Universe(PSF, DCD)\n",
    "print(u)\n",
    "print(len(u.trajectory))"
   ]
  },
  {
   "cell_type": "code",
   "execution_count": 36,
   "metadata": {},
   "outputs": [
    {
     "name": "stdout",
     "output_type": "stream",
     "text": [
      "<ResidueGroup [<Residue MET, 1>, <Residue ARG, 2>, <Residue ILE, 3>, ..., <Residue ILE, 212>, <Residue LEU, 213>, <Residue GLY, 214>]>\n",
      "\n",
      "<AtomGroup [<Atom 1: N of type 56 of resname MET, resid 1 and segid 4AKE>, <Atom 2: HT1 of type 2 of resname MET, resid 1 and segid 4AKE>, <Atom 3: HT2 of type 2 of resname MET, resid 1 and segid 4AKE>, ..., <Atom 3339: C of type 32 of resname GLY, resid 214 and segid 4AKE>, <Atom 3340: OT1 of type 72 of resname GLY, resid 214 and segid 4AKE>, <Atom 3341: OT2 of type 72 of resname GLY, resid 214 and segid 4AKE>]>\n",
      "\n",
      "<AtomGroup [<Atom 3337: HA1 of type 6 of resname GLY, resid 214 and segid 4AKE>, <Atom 3338: HA2 of type 6 of resname GLY, resid 214 and segid 4AKE>, <Atom 3339: C of type 32 of resname GLY, resid 214 and segid 4AKE>, <Atom 3340: OT1 of type 72 of resname GLY, resid 214 and segid 4AKE>, <Atom 3341: OT2 of type 72 of resname GLY, resid 214 and segid 4AKE>]>\n",
      "\n",
      "<AtomGroup [<Atom 3337: HA1 of type 6 of resname GLY, resid 214 and segid 4AKE>, <Atom 3340: OT1 of type 72 of resname GLY, resid 214 and segid 4AKE>, <Atom 3341: OT2 of type 72 of resname GLY, resid 214 and segid 4AKE>, <Atom 3338: HA2 of type 6 of resname GLY, resid 214 and segid 4AKE>, <Atom 3340: OT1 of type 72 of resname GLY, resid 214 and segid 4AKE>, <Atom 3337: HA1 of type 6 of resname GLY, resid 214 and segid 4AKE>]>\n",
      "\n",
      "<AtomGroup [<Atom 318: N of type 54 of resname GLU, resid 22 and segid 4AKE>, <Atom 319: HN of type 1 of resname GLU, resid 22 and segid 4AKE>, <Atom 320: CA of type 22 of resname GLU, resid 22 and segid 4AKE>, ..., <Atom 3271: OE2 of type 72 of resname GLU, resid 210 and segid 4AKE>, <Atom 3272: C of type 20 of resname GLU, resid 210 and segid 4AKE>, <Atom 3273: O of type 70 of resname GLU, resid 210 and segid 4AKE>]>\n",
      "\n",
      "3\n",
      "2\n"
     ]
    }
   ],
   "source": [
    "# Working with groups of atoms\n",
    "\n",
    "# the .residues attribute of a Universe returns a ResidueGroup:\n",
    "print(u.residues)\n",
    "print()\n",
    "\n",
    "# Similarily, selecting atoms:\n",
    "print(u.atoms)\n",
    "print()\n",
    "\n",
    "# slicing\n",
    "last_five = u.atoms[-5:]\n",
    "print(last_five)\n",
    "print()\n",
    "\n",
    "# fancy indexing\n",
    "print(last_five[[0, 3, -1, 1, 3, 0]])\n",
    "print()\n",
    "\n",
    "# atom selection language (https://www.mdanalysis.org/UserGuide/selections)\n",
    "print(u.select_atoms('resname ASP or resname GLU'))\n",
    "print()\n",
    "\n",
    "# boolean and wildcard\n",
    "u.select_atoms(\"(resname GLU or resname HS*) and name CA and (resid 1:100)\")\n",
    "\n",
    "## slicing vs selecting\n",
    "\n",
    "# in slicing, the last index is NOT INCLUDED\n",
    "print(u.select_atoms('resid 50-52').n_residues)\n",
    "print(u.residues[50:52].n_residues)\n",
    "\n",
    "# An AtomGroup created from a selection is sorted and duplicate elements are removed. \n",
    "# This is not true for an AtomGroup produced by slicing.\n",
    "# Thus, slicing can be used when the order of atoms is crucial."
   ]
  },
  {
   "cell_type": "code",
   "execution_count": 37,
   "metadata": {},
   "outputs": [
    {
     "name": "stdout",
     "output_type": "stream",
     "text": [
      "['N' 'HT1' 'HT2' 'HT3' 'CA' 'HA' 'CB' 'HB1' 'HB2' 'CG' 'HG1' 'HG2' 'SD'\n",
      " 'CE' 'HE1' 'HE2' 'HE3' 'C' 'O' 'N']\n",
      "<ResidueGroup [<Residue MET, 1>, <Residue ARG, 2>]>\n",
      "<SegmentGroup [<Segment 4AKE>]>\n"
     ]
    },
    {
     "data": {
      "text/plain": [
       "{('ILE', 'C'): <AtomGroup with 2 atoms>,\n",
       " ('GLU', 'N'): <AtomGroup with 1 atom>,\n",
       " ('GLN', 'C'): <AtomGroup with 1 atom>,\n",
       " ('THR', 'N'): <AtomGroup with 1 atom>,\n",
       " ('ARG', 'N'): <AtomGroup with 1 atom>,\n",
       " ('LEU', 'N'): <AtomGroup with 1 atom>,\n",
       " ('ASN', 'O'): <AtomGroup with 1 atom>,\n",
       " ('ASP', 'C'): <AtomGroup with 1 atom>,\n",
       " ('ASP', 'N'): <AtomGroup with 1 atom>,\n",
       " ('LYS', 'N'): <AtomGroup with 1 atom>,\n",
       " ('ALA', 'C'): <AtomGroup with 1 atom>,\n",
       " ('ALA', 'HN'): <AtomGroup with 2 atoms>}"
      ]
     },
     "execution_count": 37,
     "metadata": {},
     "output_type": "execute_result"
    }
   ],
   "source": [
    "# Getting atom information from AtomGroups\n",
    "\n",
    "print(u.atoms[:20].names)\n",
    "print(u.atoms[:20].residues)\n",
    "print(u.atoms[-20:].segments)\n",
    "\n",
    "# group atoms together by topology attributes.\n",
    "# around distance selection selects all atoms within distance away from another selection\n",
    "\n",
    "near_met = u.select_atoms('not resname MET and (around 2 resname MET)')\n",
    "near_met.groupby(['resnames', 'names'])"
   ]
  },
  {
   "cell_type": "code",
   "execution_count": 38,
   "metadata": {},
   "outputs": [
    {
     "name": "stdout",
     "output_type": "stream",
     "text": [
      "[[11.664622    8.393473   -8.983231  ]\n",
      " [11.414839    5.4344215  -6.5134845 ]\n",
      " [ 8.959755    5.612923   -3.6132305 ]\n",
      " [ 8.290068    3.075991   -0.79665166]\n",
      " [ 5.011126    3.7638984   1.130355  ]]\n",
      "(5, 3)\n",
      "[ 9.06808195  5.25614133 -3.75524844]\n",
      "['N' 'HT1' 'HT2']\n",
      "37.99234750892497\n",
      "['HT1' 'N' 'HT2']\n",
      "106.2036465194493\n"
     ]
    }
   ],
   "source": [
    "# AtomGroup positions and methods\n",
    "\n",
    "# .positions attribute from an AtomGroup: a numpy.ndarray of coordinates, with the shape (n_atoms, 3).\n",
    "\n",
    "ca = u.select_atoms('resid 1-5 and name CA')\n",
    "print(ca.positions)\n",
    "print(ca.positions.shape)\n",
    "\n",
    "# methods such as center_of_mass, center_of_geometry etc.\n",
    "# there is an elaborate procedures for guessing for unavailable data\n",
    "# (https://userguide.mdanalysis.org/1.0.0/formats/guessing.html)\n",
    "\n",
    "print(ca.center_of_mass())\n",
    "\n",
    "# Manually creating topology geometries\n",
    "# NOTE: NOT a topology guessing algorithm but a creation algorithm i.e. .bond requires exactly 2 atoms and so on\n",
    "\n",
    "# The value returned for an angle is the angle between first and third atom, with the apex at the second.\n",
    "nhh = u.atoms[:3]\n",
    "print(nhh.names)\n",
    "angle_nhh = nhh.angle\n",
    "print(angle_nhh.value())\n",
    "\n",
    "# Can order angle using fancy indexing\n",
    "hnh = u.atoms[[1, 0, 2]]\n",
    "print(hnh.names)\n",
    "angle_hnh = hnh.angle\n",
    "print(angle_hnh.value())"
   ]
  },
  {
   "cell_type": "code",
   "execution_count": 39,
   "metadata": {},
   "outputs": [
    {
     "name": "stdout",
     "output_type": "stream",
     "text": [
      "10\n",
      "Frame:   0, Time:    1 ps, Rgyr: 16.6690 A\n",
      "Frame:   1, Time:    2 ps, Rgyr: 16.6732 A\n",
      "Frame:   2, Time:    3 ps, Rgyr: 16.7315 A\n",
      "Frame:   3, Time:    4 ps, Rgyr: 16.7223 A\n",
      "Frame:   4, Time:    5 ps, Rgyr: 16.7440 A\n",
      "Frame:   5, Time:    6 ps, Rgyr: 16.7185 A\n",
      "Frame:   6, Time:    7 ps, Rgyr: 16.7741 A\n",
      "Frame:   7, Time:    8 ps, Rgyr: 16.7764 A\n",
      "Frame:   8, Time:    9 ps, Rgyr: 16.7894 A\n",
      "Frame:   9, Time:   10 ps, Rgyr: 16.8289 A\n",
      "Frame:  10, Time:   11 ps, Rgyr: 16.8521 A\n",
      "Frame:  11, Time:   12 ps, Rgyr: 16.8549 A\n",
      "Frame:  12, Time:   13 ps, Rgyr: 16.8723 A\n",
      "Frame:  13, Time:   14 ps, Rgyr: 16.9108 A\n",
      "Frame:  14, Time:   15 ps, Rgyr: 16.9494 A\n",
      "Frame:  15, Time:   16 ps, Rgyr: 16.9810 A\n",
      "Frame:  16, Time:   17 ps, Rgyr: 17.0033 A\n",
      "Frame:  17, Time:   18 ps, Rgyr: 17.0196 A\n",
      "Frame:  18, Time:   19 ps, Rgyr: 17.0784 A\n",
      "Frame:  19, Time:   20 ps, Rgyr: 17.1265 A\n",
      "0\n",
      "           Radius of gyration (A)\n",
      "Time (ps)                        \n",
      "1.0                     16.669018\n",
      "2.0                     16.673217\n",
      "3.0                     16.731454\n",
      "4.0                     16.722283\n",
      "5.0                     16.743961\n"
     ]
    },
    {
     "data": {
      "image/png": "[encoded data removed]",
      "text/plain": [
       "<Figure size 432x288 with 1 Axes>"
      ]
     },
     "metadata": {
      "needs_background": "light"
     },
     "output_type": "display_data"
    }
   ],
   "source": [
    "# Working with trajectories\n",
    "\n",
    "# can set the timestep of the trajectory with the frame index:\n",
    "print(u.trajectory[10].frame)\n",
    "\n",
    "# can sample across timesteps\n",
    "for ts in u.trajectory[:20]:\n",
    "    time = u.trajectory.time\n",
    "    rgyr = u.atoms.radius_of_gyration()\n",
    "    print(\"Frame: {:3d}, Time: {:4.0f} ps, Rgyr: {:.4f} A\".format(ts.frame, time, rgyr))\n",
    "\n",
    "# After iteration, the trajectory ‘resets’ back to the first frame. \n",
    "print(u.trajectory.frame)\n",
    "\n",
    "# Generally, trajectory analysis first collects frame-wise data in a list.\n",
    "rgyr = []\n",
    "time = []\n",
    "protein = u.select_atoms(\"protein\")\n",
    "for ts in u.trajectory:\n",
    "    time.append(u.trajectory.time)\n",
    "    rgyr.append(protein.radius_of_gyration())\n",
    "\n",
    "import pandas as pd\n",
    "rgyr_df = pd.DataFrame(rgyr, columns=['Radius of gyration (A)'], index=time)\n",
    "rgyr_df.index.name = 'Time (ps)'\n",
    "\n",
    "print(rgyr_df.head());\n",
    "\n",
    "%matplotlib inline\n",
    "\n",
    "rgyr_df.plot(title='Radius of gyration');\n",
    "\n",
    "# Dynamic selection\n",
    "# Selections are often defined on static properties that do not change when moving through a trajectory. \n",
    "# For queries such as around, the selection should be updated for each time step using a dynamic selection\n",
    "# the keyword updating=True gives an UpdatingAtomGroup rather than a static AtomGroup.\n",
    "dynamic = u.select_atoms('around 2 resname ALA', updating=True)\n",
    "print(type(dynamic))\n",
    "print(len(dynamic))\n",
    "u.trajectory.next()\n",
    "print(len(dynamic))"
   ]
  },
  {
   "cell_type": "code",
   "execution_count": 42,
   "metadata": {},
   "outputs": [],
   "source": [
    "# Writing out coordinates\n",
    "\n",
    "# Single frame\n",
    "ca = u.select_atoms('name CA')\n",
    "ca.write('calphas.gro')\n",
    "\n",
    "# Trajectories\n",
    "# Open a trajectory Writer and specify how many atoms a frame will contain\n",
    "# Iterate through the trajectory and write coordinates frame-by-frame with Writer.write()\n",
    "# If you do not use the context manager and the with statement below, need to close the trajectory with .close().\n",
    "\n",
    "ca = u.select_atoms('name CA')\n",
    "with mda.Writer('calphas.xtc', ca.n_atoms) as w:\n",
    "    for ts in u.trajectory:\n",
    "        w.write(ca)"
   ]
  },
  {
   "cell_type": "code",
   "execution_count": 48,
   "metadata": {},
   "outputs": [
    {
     "name": "stdout",
     "output_type": "stream",
     "text": [
      "6.852774844656239\n",
      "(98, 5)\n"
     ]
    },
    {
     "data": {
      "text/html": [
       "<div>\n",
       "<style scoped>\n",
       "    .dataframe tbody tr th:only-of-type {\n",
       "        vertical-align: middle;\n",
       "    }\n",
       "\n",
       "    .dataframe tbody tr th {\n",
       "        vertical-align: top;\n",
       "    }\n",
       "\n",
       "    .dataframe thead th {\n",
       "        text-align: right;\n",
       "    }\n",
       "</style>\n",
       "<table border=\"1\" class=\"dataframe\">\n",
       "  <thead>\n",
       "    <tr style=\"text-align: right;\">\n",
       "      <th></th>\n",
       "      <th>Backbone</th>\n",
       "      <th>C-alphas</th>\n",
       "      <th>Protein</th>\n",
       "    </tr>\n",
       "    <tr>\n",
       "      <th>Time (ps)</th>\n",
       "      <th></th>\n",
       "      <th></th>\n",
       "      <th></th>\n",
       "    </tr>\n",
       "  </thead>\n",
       "  <tbody>\n",
       "    <tr>\n",
       "      <th>1.0</th>\n",
       "      <td>3.689963e-07</td>\n",
       "      <td>4.263638e-08</td>\n",
       "      <td>5.443850e-08</td>\n",
       "    </tr>\n",
       "    <tr>\n",
       "      <th>2.0</th>\n",
       "      <td>4.636592e-01</td>\n",
       "      <td>4.235205e-01</td>\n",
       "      <td>6.934167e-01</td>\n",
       "    </tr>\n",
       "    <tr>\n",
       "      <th>3.0</th>\n",
       "      <td>6.419340e-01</td>\n",
       "      <td>5.939111e-01</td>\n",
       "      <td>8.748416e-01</td>\n",
       "    </tr>\n",
       "    <tr>\n",
       "      <th>4.0</th>\n",
       "      <td>7.743983e-01</td>\n",
       "      <td>7.371346e-01</td>\n",
       "      <td>1.052780e+00</td>\n",
       "    </tr>\n",
       "    <tr>\n",
       "      <th>5.0</th>\n",
       "      <td>8.588600e-01</td>\n",
       "      <td>8.279498e-01</td>\n",
       "      <td>1.154986e+00</td>\n",
       "    </tr>\n",
       "  </tbody>\n",
       "</table>\n",
       "</div>"
      ],
      "text/plain": [
       "               Backbone      C-alphas       Protein\n",
       "Time (ps)                                          \n",
       "1.0        3.689963e-07  4.263638e-08  5.443850e-08\n",
       "2.0        4.636592e-01  4.235205e-01  6.934167e-01\n",
       "3.0        6.419340e-01  5.939111e-01  8.748416e-01\n",
       "4.0        7.743983e-01  7.371346e-01  1.052780e+00\n",
       "5.0        8.588600e-01  8.279498e-01  1.154986e+00"
      ]
     },
     "metadata": {},
     "output_type": "display_data"
    },
    {
     "data": {
      "text/plain": [
       "<matplotlib.axes._subplots.AxesSubplot at 0x7f68e5e32f10>"
      ]
     },
     "metadata": {},
     "output_type": "display_data"
    },
    {
     "data": {
      "image/png": "[encoded data removed]",
      "text/plain": [
       "<Figure size 432x288 with 1 Axes>"
      ]
     },
     "metadata": {
      "needs_background": "light"
     },
     "output_type": "display_data"
    }
   ],
   "source": [
    "# Analysis\n",
    "\n",
    "# Most follow a common interface:\n",
    "# Initialise: with a Universe and other required parameters.\n",
    "# Run: with .run(). Optional args: start index, stop index, step, toggling verbose. Default: runs whole trajectory.\n",
    "# Results: stored within the class.\n",
    "# Often, a function is available to operate on single frames.\n",
    "\n",
    "# rmsd\n",
    "from MDAnalysis.analysis import rms # most analysis modules have to be imported from analysis module\n",
    "\n",
    "bb = u.select_atoms('backbone')\n",
    "u.trajectory[0] # first frame\n",
    "first = bb.positions\n",
    "u.trajectory[-1] #last frame\n",
    "last = bb.positions\n",
    "print(rms.rmsd(first, last)) # rmsd() 'function' calculates RMSD between two numpy arrays of coords \n",
    "                             # i.e. operates only on 1/2 frames\n",
    "\n",
    "# RMSD\n",
    "u.trajectory[0] # set to first frame\n",
    "rmsd_analysis = rms.RMSD(u, select='backbone', groupselections=['name CA', 'protein'])\n",
    "rmsd_analysis.run();\n",
    "print(rmsd_analysis.rmsd.shape) # (timesteps, {columns: frame number, time, RMSD(backbone,C-alpha,protein)})\n",
    "\n",
    "import pandas as pd\n",
    "\n",
    "rmsd_df = pd.DataFrame(rmsd_analysis.rmsd[:, 2:],\n",
    "                       columns=['Backbone', 'C-alphas', 'Protein'],\n",
    "                       index=rmsd_analysis.rmsd[:, 1])\n",
    "rmsd_df.index.name = 'Time (ps)'\n",
    "display(rmsd_df.head())\n",
    "\n",
    "display(rmsd_df.plot(title='RMSD'))"
   ]
  },
  {
   "cell_type": "markdown",
   "metadata": {},
   "source": [
    "# References\n",
    "\n",
    "N. Michaud-Agrawal, E. J. Denning, T. B. Woolf, and O. Beckstein. \n",
    "MDAnalysis: A Toolkit for the Analysis of Molecular Dynamics Simulations. \n",
    "J. Comput. Chem. 32 (2011), 2319–2327. \n",
    "doi:10.1002/jcc.21787\n",
    "\n",
    "R. J. Gowers, M. Linke, J. Barnoud, T. J. E. Reddy, M. N. Melo, \n",
    "S. L. Seyler, D. L. Dotson, J. Domanski, S. Buchoux, I. M. Kenney, and O. Beckstein. \n",
    "MDAnalysis: A Python package for the rapid analysis of molecular dynamics simulations. \n",
    "In S. Benthall and S. Rostrup, editors, \n",
    "Proceedings of the 15th Python in Science Conference, pages 98-105, Austin, TX, 2016. SciPy. \n",
    "doi:10.25080/Majora-629e541a-00e\n",
    "\n",
    "# Automatic citations with duecredit\n",
    "```bash\n",
    "python -m duecredit my_script.py\n",
    "duecredit summary --format=bibtex\n",
    "```"
   ]
  },
  {
   "cell_type": "code",
   "execution_count": null,
   "metadata": {},
   "outputs": [],
   "source": []
  }
 ],
 "metadata": {
  "kernelspec": {
   "display_name": "Python 3",
   "language": "python",
   "name": "python3"
  },
  "language_info": {
   "codemirror_mode": {
    "name": "ipython",
    "version": 3
   },
   "file_extension": ".py",
   "mimetype": "text/x-python",
   "name": "python",
   "nbconvert_exporter": "python",
   "pygments_lexer": "ipython3",
   "version": "3.8.2"
  }
 },
 "nbformat": 4,
 "nbformat_minor": 4
}
