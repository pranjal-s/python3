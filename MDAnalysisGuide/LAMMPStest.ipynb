{
 "cells": [
  {
   "cell_type": "code",
   "execution_count": 1,
   "metadata": {},
   "outputs": [
    {
     "data": {
      "image/jpeg": "[encoded data removed]",
      "text/html": [
       "\n",
       "        <iframe\n",
       "            width=\"400\"\n",
       "            height=\"300\"\n",
       "            src=\"https://www.youtube.com/embed/X5umNQDqfqQ\"\n",
       "            frameborder=\"0\"\n",
       "            allowfullscreen\n",
       "        ></iframe>\n",
       "        "
      ],
      "text/plain": [
       "<IPython.lib.display.YouTubeVideo at 0x7f3d50ef9f90>"
      ]
     },
     "execution_count": 1,
     "metadata": {},
     "output_type": "execute_result"
    }
   ],
   "source": [
    "from IPython.lib.display import YouTubeVideo\n",
    "#YouTubeVideo('2dV5s6v2v8Q')\n",
    "YouTubeVideo('X5umNQDqfqQ')"
   ]
  },
  {
   "cell_type": "code",
   "execution_count": 2,
   "metadata": {},
   "outputs": [],
   "source": [
    "#import warnings\n",
    "#warnings.filterwarnings(\"ignore\", category=DeprecationWarning)\n",
    "#warnings.filterwarnings(\"ignore\", category=UserWarning)"
   ]
  },
  {
   "cell_type": "code",
   "execution_count": 3,
   "metadata": {},
   "outputs": [
    {
     "data": {
      "application/vnd.jupyter.widget-view+json": {
       "model_id": "980b0a91add9482cae25c847613f8c82",
       "version_major": 2,
       "version_minor": 0
      },
      "text/plain": []
     },
     "metadata": {},
     "output_type": "display_data"
    }
   ],
   "source": [
    "import MDAnalysis as mda\n",
    "import nglview as nv\n",
    "\n",
    "# Only id, resid, charge, type, and coordinate information will be read from the file, \n",
    "# even if other topology attributes are specified in the atom_style argument.\n",
    "u = mda.Universe(\"membrane/structure.data\", atom_style=\"id type x y z charge density resid temp\")\n",
    "# charge = ellipsoidflag\n",
    "# mass = density\n",
    "# resid = molID\n",
    "# temp = temperature\n",
    "\n",
    "u_view = nv.show_mdanalysis(u)\n",
    "#display_good(u_view)\n",
    "#u_view"
   ]
  },
  {
   "cell_type": "code",
   "execution_count": 4,
   "metadata": {},
   "outputs": [],
   "source": [
    "u2 = mda.Universe(\"membrane/structure.data\", \"membrane/atoms.lammpsdump\", atom_style=\"id type x y z charge density resid temp\")\n",
    "u2_view = nv.show_mdanalysis(u2)"
   ]
  },
  {
   "cell_type": "code",
   "execution_count": 5,
   "metadata": {},
   "outputs": [],
   "source": [
    "u2_view.update_representation(color='pink')\n",
    "u2_view.player.delay = 5\n",
    "#u2_view"
   ]
  },
  {
   "cell_type": "code",
   "execution_count": 6,
   "metadata": {},
   "outputs": [],
   "source": [
    "#u2_view.render_image()\n",
    "#u2_view._display_image()"
   ]
  },
  {
   "cell_type": "code",
   "execution_count": 7,
   "metadata": {},
   "outputs": [],
   "source": [
    "u3 = mda.Universe(\"network/structure.data\", \"network/atoms.lammpsdump\")\n",
    "u3_view = nv.show_mdanalysis(u3)"
   ]
  },
  {
   "cell_type": "code",
   "execution_count": 8,
   "metadata": {},
   "outputs": [
    {
     "data": {
      "application/vnd.jupyter.widget-view+json": {
       "model_id": "67a54fb19b204f7fa2809a68216fd143",
       "version_major": 2,
       "version_minor": 0
      },
      "text/plain": [
       "NGLWidget(max_frame=50)"
      ]
     },
     "metadata": {},
     "output_type": "display_data"
    }
   ],
   "source": [
    "u3_view.clear_representations()\n",
    "u3_view.add_representation('licorice', color='green')\n",
    "u3_view.player.delay = 5\n",
    "u3_view"
   ]
  },
  {
   "cell_type": "code",
   "execution_count": 9,
   "metadata": {},
   "outputs": [
    {
     "name": "stdout",
     "output_type": "stream",
     "text": [
      "<AtomGroup [<Atom 1: of type 1 resid 0 and segid SYSTEM>, <Atom 2: of type 1 resid 0 and segid SYSTEM>, <Atom 3: of type 1 resid 0 and segid SYSTEM>, ..., <Atom 1998: of type 1 resid 0 and segid SYSTEM>, <Atom 1999: of type 1 resid 0 and segid SYSTEM>, <Atom 2000: of type 1 resid 0 and segid SYSTEM>]>\n",
      "<TopologyGroup containing 0 bonds>\n"
     ]
    }
   ],
   "source": [
    "print(u3.atoms)\n",
    "print(u3.bonds)"
   ]
  },
  {
   "cell_type": "code",
   "execution_count": null,
   "metadata": {},
   "outputs": [],
   "source": []
  }
 ],
 "metadata": {
  "kernelspec": {
   "display_name": "Python 3",
   "language": "python",
   "name": "python3"
  },
  "language_info": {
   "codemirror_mode": {
    "name": "ipython",
    "version": 3
   },
   "file_extension": ".py",
   "mimetype": "text/x-python",
   "name": "python",
   "nbconvert_exporter": "python",
   "pygments_lexer": "ipython3",
   "version": "3.7.7"
  }
 },
 "nbformat": 4,
 "nbformat_minor": 4
}
