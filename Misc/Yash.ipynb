{
 "cells": [
  {
   "cell_type": "code",
   "execution_count": 3,
   "metadata": {},
   "outputs": [
    {
     "name": "stdout",
     "output_type": "stream",
     "text": [
      "[1, 4]\n",
      "{1, 2, 3, 4, 7, 8, 9}\n"
     ]
    }
   ],
   "source": [
    "a = [1,2,4,3]\n",
    "b = [1,4,7,8,9]\n",
    "intersection = [i for i in a if (i in b)]\n",
    "print(intersection)\n",
    "print(set(a) | set(b)) # union"
   ]
  },
  {
   "cell_type": "code",
   "execution_count": 4,
   "metadata": {},
   "outputs": [
    {
     "name": "stdout",
     "output_type": "stream",
     "text": [
      "6\n"
     ]
    },
    {
     "data": {
      "text/plain": [
       "3"
      ]
     },
     "execution_count": 4,
     "metadata": {},
     "output_type": "execute_result"
    }
   ],
   "source": [
    "from pdb import set_trace as keyboard\n",
    "def summ(*x):\n",
    "#     keyboard()\n",
    "    if type(x[0]) == tuple:\n",
    "        if len(x[0]) == 1:\n",
    "            return x[0][0]\n",
    "        else:\n",
    "            return x[0][0] + summ(x[0][1:])\n",
    "    if len(x) == 2:\n",
    "        return x[0] + x[1]\n",
    "    else:\n",
    "        return x[0] + summ(x[1:])\n",
    "\n",
    "#summ(1,2)\n",
    "print(summ(1,2,3))\n",
    "tuple([1,2,3])\n",
    "max([1,2,3])"
   ]
  },
  {
   "cell_type": "code",
   "execution_count": 1,
   "metadata": {},
   "outputs": [
    {
     "name": "stdout",
     "output_type": "stream",
     "text": [
      "Time taken for executing factorial = 4.29e-06 seconds\n",
      "120\n"
     ]
    }
   ],
   "source": [
    "from pdb import set_trace as keyboard\n",
    "import time\n",
    "\n",
    "def function_decorator(f):\n",
    "    def g(x):\n",
    "        return [f(i) for i in x]\n",
    "    return g\n",
    "\n",
    "def timing_decorator(f):\n",
    "    def g(x):\n",
    "        t0 = time.time()\n",
    "        y = f(x)\n",
    "        print(\"Time taken for executing %s = %.3g seconds\"%(f.__name__,time.time()-t0))\n",
    "        return y\n",
    "    return g\n",
    "\n",
    "# @timing_decorator\n",
    "def factorial(n):\n",
    "    r = 1\n",
    "    for i in range(2,n+1):\n",
    "        r *= i\n",
    "    return r\n",
    "\n",
    "@function_decorator\n",
    "def plus_one(a):\n",
    "    return a+1\n",
    "        \n",
    "# print(plus_one([8,9]))\n",
    "factorial = timing_decorator(factorial)\n",
    "print(factorial(5))"
   ]
  },
  {
   "cell_type": "code",
   "execution_count": 1,
   "metadata": {},
   "outputs": [
    {
     "data": {
      "text/plain": [
       "2"
      ]
     },
     "execution_count": 1,
     "metadata": {},
     "output_type": "execute_result"
    }
   ],
   "source": [
    "1+1"
   ]
  },
  {
   "cell_type": "code",
   "execution_count": null,
   "metadata": {},
   "outputs": [],
   "source": []
  }
 ],
 "metadata": {
  "kernelspec": {
   "display_name": "Python 3",
   "language": "python",
   "name": "python3"
  },
  "language_info": {
   "codemirror_mode": {
    "name": "ipython",
    "version": 3
   },
   "file_extension": ".py",
   "mimetype": "text/x-python",
   "name": "python",
   "nbconvert_exporter": "python",
   "pygments_lexer": "ipython3",
   "version": "3.8.3"
  }
 },
 "nbformat": 4,
 "nbformat_minor": 4
}
